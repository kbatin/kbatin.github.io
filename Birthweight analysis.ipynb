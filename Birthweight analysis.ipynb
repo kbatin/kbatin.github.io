{
 "cells": [
  {
   "cell_type": "markdown",
   "id": "42a8c508",
   "metadata": {},
   "source": [
    "<hr style=\"height:.9px;border:none;color:#333;background-color:#333;\" />\n",
    "<hr style=\"height:.9px;border:none;color:#333;background-color:#333;\" />\n",
    "\n",
    "<br><h2>A2: Modeling Case Study</h2>\n",
    "<br> Kimberly Batin <br>\n",
    "<br>\n",
    "Hult International Business School<br><br><br>\n",
    "\n",
    "<hr style=\"height:.9px;border:none;color:#333;background-color:#333;\" />\n",
    "<hr style=\"height:.9px;border:none;color:#333;background-color:#333;\" />\n",
    "\n",
    "<br>\n",
    "\n"
   ]
  },
  {
   "cell_type": "markdown",
   "id": "d5859c03",
   "metadata": {},
   "source": [
    "    "
   ]
  },
  {
   "cell_type": "markdown",
   "id": "1f4e04c1",
   "metadata": {},
   "source": [
    "<h2>INTRODUCTION</h2><br>\n",
    "\n",
    "\n",
    "This study will explore the various determinants of birthweight, a vital factor influencing neonatal health and development. Leveraging a comprehensive dataset, the objective is to determine patterns, identify predictors, and propose actionable insights to mitigate the risks associated with low birthweight. Given the significant correlation between birthweight and neonatal morbidity and mortality, understanding these relationships is crucial. Our methodology encompasses a broad range of computational analytics and machine learning techniques, aimed at explaining the complex interaction between genetic, environmental, and healthcare-related factors. This analysis aims to inform public health strategies, potentially saving lives through early intervention and informed prenatal care.\n",
    "\n"
   ]
  },
  {
   "cell_type": "markdown",
   "id": "eb2381b2",
   "metadata": {},
   "source": [
    "   "
   ]
  },
  {
   "cell_type": "markdown",
   "id": "ba43fe0c",
   "metadata": {},
   "source": [
    "<h2> Import libraries and preparation </h2>"
   ]
  },
  {
   "cell_type": "code",
   "execution_count": 1,
   "id": "a8400f8d",
   "metadata": {},
   "outputs": [
    {
     "name": "stdout",
     "output_type": "stream",
     "text": [
      "Requirement already satisfied: phik in /Users/kimberly/anaconda3/lib/python3.11/site-packages (0.12.4)\n",
      "Requirement already satisfied: numpy>=1.18.0 in /Users/kimberly/anaconda3/lib/python3.11/site-packages (from phik) (1.24.3)\n",
      "Requirement already satisfied: scipy>=1.5.2 in /Users/kimberly/anaconda3/lib/python3.11/site-packages (from phik) (1.11.3)\n",
      "Requirement already satisfied: pandas>=0.25.1 in /Users/kimberly/anaconda3/lib/python3.11/site-packages (from phik) (2.1.1)\n",
      "Requirement already satisfied: matplotlib>=2.2.3 in /Users/kimberly/anaconda3/lib/python3.11/site-packages (from phik) (3.7.3)\n",
      "Requirement already satisfied: joblib>=0.14.1 in /Users/kimberly/anaconda3/lib/python3.11/site-packages (from phik) (1.2.0)\n",
      "Requirement already satisfied: contourpy>=1.0.1 in /Users/kimberly/anaconda3/lib/python3.11/site-packages (from matplotlib>=2.2.3->phik) (1.0.5)\n",
      "Requirement already satisfied: cycler>=0.10 in /Users/kimberly/anaconda3/lib/python3.11/site-packages (from matplotlib>=2.2.3->phik) (0.11.0)\n",
      "Requirement already satisfied: fonttools>=4.22.0 in /Users/kimberly/anaconda3/lib/python3.11/site-packages (from matplotlib>=2.2.3->phik) (4.25.0)\n",
      "Requirement already satisfied: kiwisolver>=1.0.1 in /Users/kimberly/anaconda3/lib/python3.11/site-packages (from matplotlib>=2.2.3->phik) (1.4.4)\n",
      "Requirement already satisfied: packaging>=20.0 in /Users/kimberly/anaconda3/lib/python3.11/site-packages (from matplotlib>=2.2.3->phik) (23.1)\n",
      "Requirement already satisfied: pillow>=6.2.0 in /Users/kimberly/anaconda3/lib/python3.11/site-packages (from matplotlib>=2.2.3->phik) (10.0.1)\n",
      "Requirement already satisfied: pyparsing>=2.3.1 in /Users/kimberly/anaconda3/lib/python3.11/site-packages (from matplotlib>=2.2.3->phik) (3.0.9)\n",
      "Requirement already satisfied: python-dateutil>=2.7 in /Users/kimberly/anaconda3/lib/python3.11/site-packages (from matplotlib>=2.2.3->phik) (2.8.2)\n",
      "Requirement already satisfied: pytz>=2020.1 in /Users/kimberly/anaconda3/lib/python3.11/site-packages (from pandas>=0.25.1->phik) (2023.3.post1)\n",
      "Requirement already satisfied: tzdata>=2022.1 in /Users/kimberly/anaconda3/lib/python3.11/site-packages (from pandas>=0.25.1->phik) (2023.3)\n",
      "Requirement already satisfied: six>=1.5 in /Users/kimberly/anaconda3/lib/python3.11/site-packages (from python-dateutil>=2.7->matplotlib>=2.2.3->phik) (1.16.0)\n",
      "Note: you may need to restart the kernel to use updated packages.\n"
     ]
    }
   ],
   "source": [
    "# installing phik (phi coefficient)\n",
    "%pip install phik"
   ]
  },
  {
   "cell_type": "code",
   "execution_count": 2,
   "id": "e92e8245",
   "metadata": {},
   "outputs": [],
   "source": [
    "## Importing libraries ##\n",
    "\n",
    "# For this template submission\n",
    "import numpy                 as np                         # mathematical essentials\n",
    "import pandas                as pd                         # data science essentials\n",
    "import sklearn.linear_model                                # linear models\n",
    "from sklearn.model_selection import train_test_split       # train/test split\n",
    "import matplotlib.pyplot     as plt                        # essential graphical output\n",
    "import seaborn               as sns                        # enhanced graphical output\n",
    "import statsmodels.formula.api as smf # predictive modeling with nice outputs\n",
    "# new libraries\n",
    "from sklearn.preprocessing   import StandardScaler         # standard scaler\n",
    "import warnings                                            # warnings from code\n",
    "from sklearn.tree            import DecisionTreeRegressor  # DecisionTreeRegressor\n",
    "from sklearn.linear_model    import Ridge, Lasso           # Ridge and Lasso Regression\n",
    "from sklearn.linear_model    import SGDRegressor           # SGD Regressor\n",
    "from sklearn.neighbors       import KNeighborsRegressor    # KNN\n",
    "from sklearn.model_selection import RandomizedSearchCV    \n",
    "from scipy.stats             import randint\n",
    "from sklearn.neighbors       import KNeighborsClassifier\n",
    "from sklearn.model_selection import GridSearchCV\n",
    "from sklearn.preprocessing import OneHotEncoder           # from Datacamp\n",
    "from sklearn.metrics import mean_squared_error, r2_score\n",
    "import warnings                                        # warnings from code\n",
    "from sklearn.tree import DecisionTreeClassifier\n",
    "from sklearn.linear_model import LogisticRegression\n",
    "\n",
    "# classification-specific libraries\n",
    "import phik                           # phi coefficient\n",
    "import statsmodels.formula.api as smf # logistic regression\n",
    "import sklearn.linear_model           # logistic regression\n",
    "\n",
    "# preprocessing and testing\n",
    "from sklearn.preprocessing import power_transform    # yeo-johnson\n",
    "from sklearn.preprocessing import StandardScaler     # standard scaler\n",
    "from sklearn.model_selection import train_test_split # train-test split\n",
    "from sklearn.metrics import (confusion_matrix,\n",
    "                             roc_auc_score, precision_score, recall_score)\n",
    "\n",
    "# model results\n",
    "from sklearn.metrics import roc_auc_score              # auc score\n",
    "from sklearn.metrics import make_scorer                # customizable scorer\n",
    "from sklearn.metrics import confusion_matrix           # confusion matrix\n",
    "\n",
    "\n",
    "# machine learning\n",
    "from sklearn.ensemble import RandomForestClassifier     # random forest\n",
    "from sklearn.ensemble import GradientBoostingClassifier # gbm\n",
    "\n",
    "\n",
    "# Suppressing warnings\n",
    "warnings.filterwarnings(action = 'ignore')\n",
    "\n",
    "# Setting pandas print options (optional)\n",
    "pd.set_option('display.max_rows', 500)\n",
    "pd.set_option('display.max_columns', 500)\n",
    "pd.set_option('display.width', 1000)"
   ]
  },
  {
   "cell_type": "code",
   "execution_count": 3,
   "id": "3d17926c",
   "metadata": {},
   "outputs": [],
   "source": [
    "## Importing data ##\n",
    "\n",
    "# Reading modeling data into Python\n",
    "modeling_data = '/Users/kimberly/Downloads/birthweight.xlsx'\n",
    "\n",
    "# Calling this df_train\n",
    "df_train = pd.read_excel(io         = modeling_data,\n",
    "                         sheet_name = 0,\n",
    "                         header     = 0,\n",
    "                         index_col  = 'bwt_id')\n",
    "\n",
    "\n",
    "\n",
    "# Reading testing data into Python\n",
    "testing_data = '/Users/kimberly/Downloads/kaggle_test_data.xlsx'\n",
    "\n",
    "# Calling this df_test\n",
    "df_test = pd.read_excel(io         = testing_data,\n",
    "                        sheet_name = 0,\n",
    "                        header     = 0,\n",
    "                        index_col  = 'bwt_id')"
   ]
  },
  {
   "cell_type": "code",
   "execution_count": 4,
   "id": "9e4a89f2",
   "metadata": {},
   "outputs": [
    {
     "data": {
      "text/html": [
       "<div>\n",
       "<style scoped>\n",
       "    .dataframe tbody tr th:only-of-type {\n",
       "        vertical-align: middle;\n",
       "    }\n",
       "\n",
       "    .dataframe tbody tr th {\n",
       "        vertical-align: top;\n",
       "    }\n",
       "\n",
       "    .dataframe thead th {\n",
       "        text-align: right;\n",
       "    }\n",
       "</style>\n",
       "<table border=\"1\" class=\"dataframe\">\n",
       "  <thead>\n",
       "    <tr style=\"text-align: right;\">\n",
       "      <th></th>\n",
       "      <th>mage</th>\n",
       "      <th>meduc</th>\n",
       "      <th>monpre</th>\n",
       "      <th>npvis</th>\n",
       "      <th>fage</th>\n",
       "      <th>feduc</th>\n",
       "      <th>omaps</th>\n",
       "      <th>fmaps</th>\n",
       "      <th>cigs</th>\n",
       "      <th>drink</th>\n",
       "      <th>male</th>\n",
       "      <th>mwhte</th>\n",
       "      <th>mblck</th>\n",
       "      <th>moth</th>\n",
       "      <th>fwhte</th>\n",
       "      <th>fblck</th>\n",
       "      <th>foth</th>\n",
       "      <th>bwght</th>\n",
       "      <th>set</th>\n",
       "    </tr>\n",
       "    <tr>\n",
       "      <th>bwt_id</th>\n",
       "      <th></th>\n",
       "      <th></th>\n",
       "      <th></th>\n",
       "      <th></th>\n",
       "      <th></th>\n",
       "      <th></th>\n",
       "      <th></th>\n",
       "      <th></th>\n",
       "      <th></th>\n",
       "      <th></th>\n",
       "      <th></th>\n",
       "      <th></th>\n",
       "      <th></th>\n",
       "      <th></th>\n",
       "      <th></th>\n",
       "      <th></th>\n",
       "      <th></th>\n",
       "      <th></th>\n",
       "      <th></th>\n",
       "    </tr>\n",
       "  </thead>\n",
       "  <tbody>\n",
       "    <tr>\n",
       "      <th>bwt_1</th>\n",
       "      <td>28</td>\n",
       "      <td>12.0</td>\n",
       "      <td>2</td>\n",
       "      <td>10.0</td>\n",
       "      <td>31.0</td>\n",
       "      <td>17.0</td>\n",
       "      <td>8.0</td>\n",
       "      <td>9.0</td>\n",
       "      <td>0.0</td>\n",
       "      <td>0.0</td>\n",
       "      <td>0</td>\n",
       "      <td>1</td>\n",
       "      <td>0</td>\n",
       "      <td>0</td>\n",
       "      <td>1</td>\n",
       "      <td>0</td>\n",
       "      <td>0</td>\n",
       "      <td>3317.0</td>\n",
       "      <td>Not Kaggle</td>\n",
       "    </tr>\n",
       "    <tr>\n",
       "      <th>bwt_2</th>\n",
       "      <td>21</td>\n",
       "      <td>NaN</td>\n",
       "      <td>1</td>\n",
       "      <td>6.0</td>\n",
       "      <td>21.0</td>\n",
       "      <td>NaN</td>\n",
       "      <td>8.0</td>\n",
       "      <td>9.0</td>\n",
       "      <td>NaN</td>\n",
       "      <td>NaN</td>\n",
       "      <td>0</td>\n",
       "      <td>1</td>\n",
       "      <td>0</td>\n",
       "      <td>0</td>\n",
       "      <td>1</td>\n",
       "      <td>0</td>\n",
       "      <td>0</td>\n",
       "      <td>1160.0</td>\n",
       "      <td>Not Kaggle</td>\n",
       "    </tr>\n",
       "    <tr>\n",
       "      <th>bwt_3</th>\n",
       "      <td>27</td>\n",
       "      <td>15.0</td>\n",
       "      <td>2</td>\n",
       "      <td>11.0</td>\n",
       "      <td>32.0</td>\n",
       "      <td>16.0</td>\n",
       "      <td>9.0</td>\n",
       "      <td>9.0</td>\n",
       "      <td>0.0</td>\n",
       "      <td>0.0</td>\n",
       "      <td>1</td>\n",
       "      <td>1</td>\n",
       "      <td>0</td>\n",
       "      <td>0</td>\n",
       "      <td>1</td>\n",
       "      <td>0</td>\n",
       "      <td>0</td>\n",
       "      <td>4706.0</td>\n",
       "      <td>Not Kaggle</td>\n",
       "    </tr>\n",
       "    <tr>\n",
       "      <th>bwt_4</th>\n",
       "      <td>33</td>\n",
       "      <td>17.0</td>\n",
       "      <td>1</td>\n",
       "      <td>20.0</td>\n",
       "      <td>39.0</td>\n",
       "      <td>17.0</td>\n",
       "      <td>9.0</td>\n",
       "      <td>10.0</td>\n",
       "      <td>0.0</td>\n",
       "      <td>0.0</td>\n",
       "      <td>0</td>\n",
       "      <td>0</td>\n",
       "      <td>0</td>\n",
       "      <td>1</td>\n",
       "      <td>0</td>\n",
       "      <td>0</td>\n",
       "      <td>1</td>\n",
       "      <td>3289.0</td>\n",
       "      <td>Not Kaggle</td>\n",
       "    </tr>\n",
       "    <tr>\n",
       "      <th>bwt_5</th>\n",
       "      <td>30</td>\n",
       "      <td>15.0</td>\n",
       "      <td>2</td>\n",
       "      <td>12.0</td>\n",
       "      <td>36.0</td>\n",
       "      <td>16.0</td>\n",
       "      <td>9.0</td>\n",
       "      <td>9.0</td>\n",
       "      <td>NaN</td>\n",
       "      <td>NaN</td>\n",
       "      <td>1</td>\n",
       "      <td>1</td>\n",
       "      <td>0</td>\n",
       "      <td>0</td>\n",
       "      <td>1</td>\n",
       "      <td>0</td>\n",
       "      <td>0</td>\n",
       "      <td>3490.0</td>\n",
       "      <td>Not Kaggle</td>\n",
       "    </tr>\n",
       "  </tbody>\n",
       "</table>\n",
       "</div>"
      ],
      "text/plain": [
       "        mage  meduc  monpre  npvis  fage  feduc  omaps  fmaps  cigs  drink  male  mwhte  mblck  moth  fwhte  fblck  foth   bwght         set\n",
       "bwt_id                                                                                                                                      \n",
       "bwt_1     28   12.0       2   10.0  31.0   17.0    8.0    9.0   0.0    0.0     0      1      0     0      1      0     0  3317.0  Not Kaggle\n",
       "bwt_2     21    NaN       1    6.0  21.0    NaN    8.0    9.0   NaN    NaN     0      1      0     0      1      0     0  1160.0  Not Kaggle\n",
       "bwt_3     27   15.0       2   11.0  32.0   16.0    9.0    9.0   0.0    0.0     1      1      0     0      1      0     0  4706.0  Not Kaggle\n",
       "bwt_4     33   17.0       1   20.0  39.0   17.0    9.0   10.0   0.0    0.0     0      0      0     1      0      0     1  3289.0  Not Kaggle\n",
       "bwt_5     30   15.0       2   12.0  36.0   16.0    9.0    9.0   NaN    NaN     1      1      0     0      1      0     0  3490.0  Not Kaggle"
      ]
     },
     "execution_count": 4,
     "metadata": {},
     "output_type": "execute_result"
    }
   ],
   "source": [
    "# Concatenating datasets together for mv analysis and feature engineering\n",
    "df_train['set'] = 'Not Kaggle'\n",
    "df_test ['set'] = 'Kaggle'\n",
    "\n",
    "# Concatenating both datasets together for mv and feature engineering\n",
    "df_full = pd.concat(objs = [df_train, df_test],\n",
    "                    axis = 0,\n",
    "                    ignore_index = False)\n",
    "\n",
    "# Checking data\n",
    "df_full.head(n = 5)"
   ]
  },
  {
   "cell_type": "markdown",
   "id": "62954a41",
   "metadata": {},
   "source": [
    "   "
   ]
  },
  {
   "cell_type": "markdown",
   "id": "b8ba4aba",
   "metadata": {},
   "source": [
    "<h2> Base Modeling </h2>"
   ]
  },
  {
   "cell_type": "markdown",
   "id": "1bab4bb0",
   "metadata": {},
   "source": [
    "<h3> Data Exploration </h3>"
   ]
  },
  {
   "cell_type": "code",
   "execution_count": 5,
   "id": "767d577d",
   "metadata": {},
   "outputs": [
    {
     "name": "stdout",
     "output_type": "stream",
     "text": [
      "<class 'pandas.core.frame.DataFrame'>\n",
      "Index: 473 entries, bwt_1 to bwt_468\n",
      "Data columns (total 19 columns):\n",
      " #   Column  Non-Null Count  Dtype  \n",
      "---  ------  --------------  -----  \n",
      " 0   mage    473 non-null    int64  \n",
      " 1   meduc   467 non-null    float64\n",
      " 2   monpre  473 non-null    int64  \n",
      " 3   npvis   452 non-null    float64\n",
      " 4   fage    472 non-null    float64\n",
      " 5   feduc   463 non-null    float64\n",
      " 6   omaps   471 non-null    float64\n",
      " 7   fmaps   471 non-null    float64\n",
      " 8   cigs    440 non-null    float64\n",
      " 9   drink   441 non-null    float64\n",
      " 10  male    473 non-null    int64  \n",
      " 11  mwhte   473 non-null    int64  \n",
      " 12  mblck   473 non-null    int64  \n",
      " 13  moth    473 non-null    int64  \n",
      " 14  fwhte   473 non-null    int64  \n",
      " 15  fblck   473 non-null    int64  \n",
      " 16  foth    473 non-null    int64  \n",
      " 17  bwght   409 non-null    float64\n",
      " 18  set     473 non-null    object \n",
      "dtypes: float64(9), int64(9), object(1)\n",
      "memory usage: 73.9+ KB\n"
     ]
    }
   ],
   "source": [
    "# Get the information for all variables\n",
    "df_full.info(verbose = True)"
   ]
  },
  {
   "cell_type": "code",
   "execution_count": 6,
   "id": "f2bc40d0",
   "metadata": {},
   "outputs": [
    {
     "data": {
      "text/html": [
       "<div>\n",
       "<style scoped>\n",
       "    .dataframe tbody tr th:only-of-type {\n",
       "        vertical-align: middle;\n",
       "    }\n",
       "\n",
       "    .dataframe tbody tr th {\n",
       "        vertical-align: top;\n",
       "    }\n",
       "\n",
       "    .dataframe thead th {\n",
       "        text-align: right;\n",
       "    }\n",
       "</style>\n",
       "<table border=\"1\" class=\"dataframe\">\n",
       "  <thead>\n",
       "    <tr style=\"text-align: right;\">\n",
       "      <th></th>\n",
       "      <th>mage</th>\n",
       "      <th>meduc</th>\n",
       "      <th>monpre</th>\n",
       "      <th>npvis</th>\n",
       "      <th>fage</th>\n",
       "      <th>feduc</th>\n",
       "      <th>omaps</th>\n",
       "      <th>fmaps</th>\n",
       "      <th>cigs</th>\n",
       "      <th>drink</th>\n",
       "      <th>male</th>\n",
       "      <th>mwhte</th>\n",
       "      <th>mblck</th>\n",
       "      <th>moth</th>\n",
       "      <th>fwhte</th>\n",
       "      <th>fblck</th>\n",
       "      <th>foth</th>\n",
       "      <th>bwght</th>\n",
       "    </tr>\n",
       "  </thead>\n",
       "  <tbody>\n",
       "    <tr>\n",
       "      <th>count</th>\n",
       "      <td>473.000</td>\n",
       "      <td>467.000</td>\n",
       "      <td>473.000</td>\n",
       "      <td>452.000</td>\n",
       "      <td>472.000</td>\n",
       "      <td>463.000</td>\n",
       "      <td>471.000</td>\n",
       "      <td>471.000</td>\n",
       "      <td>440.000</td>\n",
       "      <td>441.000</td>\n",
       "      <td>473.000</td>\n",
       "      <td>473.000</td>\n",
       "      <td>473.000</td>\n",
       "      <td>473.000</td>\n",
       "      <td>473.000</td>\n",
       "      <td>473.000</td>\n",
       "      <td>473.000</td>\n",
       "      <td>409.00</td>\n",
       "    </tr>\n",
       "    <tr>\n",
       "      <th>mean</th>\n",
       "      <td>29.784</td>\n",
       "      <td>13.681</td>\n",
       "      <td>2.205</td>\n",
       "      <td>11.535</td>\n",
       "      <td>32.169</td>\n",
       "      <td>13.866</td>\n",
       "      <td>8.225</td>\n",
       "      <td>8.951</td>\n",
       "      <td>1.173</td>\n",
       "      <td>0.020</td>\n",
       "      <td>0.505</td>\n",
       "      <td>0.871</td>\n",
       "      <td>0.074</td>\n",
       "      <td>0.055</td>\n",
       "      <td>0.877</td>\n",
       "      <td>0.074</td>\n",
       "      <td>0.049</td>\n",
       "      <td>3189.87</td>\n",
       "    </tr>\n",
       "    <tr>\n",
       "      <th>std</th>\n",
       "      <td>5.106</td>\n",
       "      <td>2.137</td>\n",
       "      <td>1.330</td>\n",
       "      <td>3.925</td>\n",
       "      <td>6.098</td>\n",
       "      <td>2.222</td>\n",
       "      <td>1.368</td>\n",
       "      <td>0.576</td>\n",
       "      <td>4.212</td>\n",
       "      <td>0.297</td>\n",
       "      <td>0.501</td>\n",
       "      <td>0.336</td>\n",
       "      <td>0.262</td>\n",
       "      <td>0.228</td>\n",
       "      <td>0.328</td>\n",
       "      <td>0.262</td>\n",
       "      <td>0.215</td>\n",
       "      <td>748.45</td>\n",
       "    </tr>\n",
       "    <tr>\n",
       "      <th>min</th>\n",
       "      <td>16.000</td>\n",
       "      <td>3.000</td>\n",
       "      <td>0.000</td>\n",
       "      <td>0.000</td>\n",
       "      <td>18.000</td>\n",
       "      <td>6.000</td>\n",
       "      <td>1.000</td>\n",
       "      <td>5.000</td>\n",
       "      <td>0.000</td>\n",
       "      <td>0.000</td>\n",
       "      <td>0.000</td>\n",
       "      <td>0.000</td>\n",
       "      <td>0.000</td>\n",
       "      <td>0.000</td>\n",
       "      <td>0.000</td>\n",
       "      <td>0.000</td>\n",
       "      <td>0.000</td>\n",
       "      <td>360.00</td>\n",
       "    </tr>\n",
       "    <tr>\n",
       "      <th>25%</th>\n",
       "      <td>26.000</td>\n",
       "      <td>12.000</td>\n",
       "      <td>1.000</td>\n",
       "      <td>10.000</td>\n",
       "      <td>28.000</td>\n",
       "      <td>12.000</td>\n",
       "      <td>8.000</td>\n",
       "      <td>9.000</td>\n",
       "      <td>0.000</td>\n",
       "      <td>0.000</td>\n",
       "      <td>0.000</td>\n",
       "      <td>1.000</td>\n",
       "      <td>0.000</td>\n",
       "      <td>0.000</td>\n",
       "      <td>1.000</td>\n",
       "      <td>0.000</td>\n",
       "      <td>0.000</td>\n",
       "      <td>2780.00</td>\n",
       "    </tr>\n",
       "    <tr>\n",
       "      <th>50%</th>\n",
       "      <td>30.000</td>\n",
       "      <td>13.000</td>\n",
       "      <td>2.000</td>\n",
       "      <td>12.000</td>\n",
       "      <td>32.000</td>\n",
       "      <td>14.000</td>\n",
       "      <td>9.000</td>\n",
       "      <td>9.000</td>\n",
       "      <td>0.000</td>\n",
       "      <td>0.000</td>\n",
       "      <td>1.000</td>\n",
       "      <td>1.000</td>\n",
       "      <td>0.000</td>\n",
       "      <td>0.000</td>\n",
       "      <td>1.000</td>\n",
       "      <td>0.000</td>\n",
       "      <td>0.000</td>\n",
       "      <td>3340.00</td>\n",
       "    </tr>\n",
       "    <tr>\n",
       "      <th>75%</th>\n",
       "      <td>33.000</td>\n",
       "      <td>16.000</td>\n",
       "      <td>3.000</td>\n",
       "      <td>13.000</td>\n",
       "      <td>36.000</td>\n",
       "      <td>16.000</td>\n",
       "      <td>9.000</td>\n",
       "      <td>9.000</td>\n",
       "      <td>0.000</td>\n",
       "      <td>0.000</td>\n",
       "      <td>1.000</td>\n",
       "      <td>1.000</td>\n",
       "      <td>0.000</td>\n",
       "      <td>0.000</td>\n",
       "      <td>1.000</td>\n",
       "      <td>0.000</td>\n",
       "      <td>0.000</td>\n",
       "      <td>3686.00</td>\n",
       "    </tr>\n",
       "    <tr>\n",
       "      <th>max</th>\n",
       "      <td>44.000</td>\n",
       "      <td>17.000</td>\n",
       "      <td>8.000</td>\n",
       "      <td>36.000</td>\n",
       "      <td>62.000</td>\n",
       "      <td>17.000</td>\n",
       "      <td>10.000</td>\n",
       "      <td>10.000</td>\n",
       "      <td>30.000</td>\n",
       "      <td>6.000</td>\n",
       "      <td>1.000</td>\n",
       "      <td>1.000</td>\n",
       "      <td>1.000</td>\n",
       "      <td>1.000</td>\n",
       "      <td>1.000</td>\n",
       "      <td>1.000</td>\n",
       "      <td>1.000</td>\n",
       "      <td>5089.00</td>\n",
       "    </tr>\n",
       "  </tbody>\n",
       "</table>\n",
       "</div>"
      ],
      "text/plain": [
       "          mage    meduc   monpre    npvis     fage    feduc    omaps    fmaps     cigs    drink     male    mwhte    mblck     moth    fwhte    fblck     foth    bwght\n",
       "count  473.000  467.000  473.000  452.000  472.000  463.000  471.000  471.000  440.000  441.000  473.000  473.000  473.000  473.000  473.000  473.000  473.000   409.00\n",
       "mean    29.784   13.681    2.205   11.535   32.169   13.866    8.225    8.951    1.173    0.020    0.505    0.871    0.074    0.055    0.877    0.074    0.049  3189.87\n",
       "std      5.106    2.137    1.330    3.925    6.098    2.222    1.368    0.576    4.212    0.297    0.501    0.336    0.262    0.228    0.328    0.262    0.215   748.45\n",
       "min     16.000    3.000    0.000    0.000   18.000    6.000    1.000    5.000    0.000    0.000    0.000    0.000    0.000    0.000    0.000    0.000    0.000   360.00\n",
       "25%     26.000   12.000    1.000   10.000   28.000   12.000    8.000    9.000    0.000    0.000    0.000    1.000    0.000    0.000    1.000    0.000    0.000  2780.00\n",
       "50%     30.000   13.000    2.000   12.000   32.000   14.000    9.000    9.000    0.000    0.000    1.000    1.000    0.000    0.000    1.000    0.000    0.000  3340.00\n",
       "75%     33.000   16.000    3.000   13.000   36.000   16.000    9.000    9.000    0.000    0.000    1.000    1.000    0.000    0.000    1.000    0.000    0.000  3686.00\n",
       "max     44.000   17.000    8.000   36.000   62.000   17.000   10.000   10.000   30.000    6.000    1.000    1.000    1.000    1.000    1.000    1.000    1.000  5089.00"
      ]
     },
     "execution_count": 6,
     "metadata": {},
     "output_type": "execute_result"
    }
   ],
   "source": [
    "# Get the descriptive stats for the train dataset\n",
    "df_full.describe().round(decimals = 3)"
   ]
  },
  {
   "cell_type": "markdown",
   "id": "a17f3190",
   "metadata": {},
   "source": [
    "<h3> Dealing with NA values </h3>"
   ]
  },
  {
   "cell_type": "code",
   "execution_count": 7,
   "id": "d5a085ff",
   "metadata": {},
   "outputs": [
    {
     "data": {
      "text/plain": [
       "mage       0\n",
       "meduc      6\n",
       "monpre     0\n",
       "npvis     21\n",
       "fage       1\n",
       "feduc     10\n",
       "omaps      2\n",
       "fmaps      2\n",
       "cigs      33\n",
       "drink     32\n",
       "male       0\n",
       "mwhte      0\n",
       "mblck      0\n",
       "moth       0\n",
       "fwhte      0\n",
       "fblck      0\n",
       "foth       0\n",
       "bwght     64\n",
       "set        0\n",
       "dtype: int64"
      ]
     },
     "execution_count": 7,
     "metadata": {},
     "output_type": "execute_result"
    }
   ],
   "source": [
    "# Search for the null values\n",
    "df_full.isnull().sum(axis = 0)"
   ]
  },
  {
   "cell_type": "code",
   "execution_count": 8,
   "id": "db5ebb31",
   "metadata": {
    "cell_style": "split"
   },
   "outputs": [
    {
     "name": "stdout",
     "output_type": "stream",
     "text": [
      " Mean:   13.680942184154176\n",
      " Median: 13.0\n",
      " Mode:   0    12.0\n",
      "Name: meduc, dtype: float64\n"
     ]
    },
    {
     "data": {
      "image/png": "[encoded data removed]",
      "text/plain": [
       "<Figure size 640x480 with 1 Axes>"
      ]
     },
     "metadata": {},
     "output_type": "display_data"
    }
   ],
   "source": [
    "# plotting 'meduc'\n",
    "sns.histplot(x = 'meduc', # x data\n",
    "            data = df_full,           # dataset\n",
    "            color = 'olive',       # color\n",
    "            kde = True)\n",
    "\n",
    "\n",
    "# title and labels\n",
    "plt.title (label  = 'Distribution of MEduc') # title\n",
    "plt.xlabel(xlabel = 'MEduc')                 # x label\n",
    "plt.ylabel(ylabel = 'Count')                             # y label\n",
    "\n",
    "# mean and median lines\n",
    "plt.axvline(df_full['meduc'].mean()    , color = \"red\"  ) # redline for mean\n",
    "plt.axvline(df_full['meduc'].median()  , color = \"blue\" ) # blue line for median\n",
    "\n",
    "# checking mean and median results\n",
    "mean_meduc = df_full['meduc'].mean()\n",
    "median_meduc = df_full['meduc'].median()\n",
    "mode_meduc = df_full['meduc'].mode()\n",
    "print(f\"\"\" Mean:   {mean_meduc}\"\"\")\n",
    "print(f\"\"\" Median: {median_meduc}\"\"\")\n",
    "print(f\"\"\" Mode:   {mode_meduc}\"\"\")\n",
    "\n",
    "\n",
    "# displaying the plot\n",
    "plt.show()"
   ]
  },
  {
   "cell_type": "code",
   "execution_count": 9,
   "id": "a92233bb",
   "metadata": {
    "cell_style": "split"
   },
   "outputs": [
    {
     "name": "stdout",
     "output_type": "stream",
     "text": [
      " Mean:   11.535398230088495\n",
      " Median: 12.0\n",
      " Mode:   0    12.0\n",
      "Name: npvis, dtype: float64\n"
     ]
    },
    {
     "data": {
      "image/png": "[encoded data removed]",
      "text/plain": [
       "<Figure size 640x480 with 1 Axes>"
      ]
     },
     "metadata": {},
     "output_type": "display_data"
    }
   ],
   "source": [
    "# plotting 'NPVIS'\n",
    "sns.histplot(x = 'npvis', # x data\n",
    "            data = df_full,           # dataset\n",
    "            color = 'olive',       # color\n",
    "            kde = True)\n",
    "\n",
    "\n",
    "# title and labels\n",
    "plt.title (label  = 'Distribution of NPVis') # title\n",
    "plt.xlabel(xlabel = 'NPVis')                 # x label\n",
    "plt.ylabel(ylabel = 'Count')                             # y label\n",
    "\n",
    "# mean and median lines\n",
    "plt.axvline(df_full['npvis'].mean()    , color = \"red\"  ) # redline for mean\n",
    "plt.axvline(df_full['npvis'].median()  , color = \"blue\" ) # blue line for median\n",
    "\n",
    "# checking mean and median results\n",
    "mean_npvis = df_full['npvis'].mean()\n",
    "median_npvis = df_full['npvis'].median()\n",
    "mode_npvis = df_full['npvis'].mode()\n",
    "print(f\"\"\" Mean:   {mean_npvis}\"\"\")\n",
    "print(f\"\"\" Median: {median_npvis}\"\"\")\n",
    "print(f\"\"\" Mode:   {mode_npvis}\"\"\")\n",
    "\n",
    "\n",
    "# displaying the plot\n",
    "plt.show()"
   ]
  },
  {
   "cell_type": "markdown",
   "id": "859a63c4",
   "metadata": {},
   "source": [
    "   "
   ]
  },
  {
   "cell_type": "code",
   "execution_count": 10,
   "id": "771d0c08",
   "metadata": {
    "cell_style": "split"
   },
   "outputs": [
    {
     "name": "stdout",
     "output_type": "stream",
     "text": [
      " Mean:   32.16949152542373\n",
      " Median: 32.0\n",
      " Mode:   0    31.0\n",
      "1    32.0\n",
      "Name: fage, dtype: float64\n"
     ]
    },
    {
     "data": {
      "image/png": "[encoded data removed]",
      "text/plain": [
       "<Figure size 640x480 with 1 Axes>"
      ]
     },
     "metadata": {},
     "output_type": "display_data"
    }
   ],
   "source": [
    "# plotting 'fage'\n",
    "sns.histplot(x = 'fage', # x data\n",
    "            data = df_full,           # dataset\n",
    "            color = 'olive',       # color\n",
    "            kde = True)\n",
    "\n",
    "\n",
    "# title and labels\n",
    "plt.title (label  = 'Distribution of FAge') # title\n",
    "plt.xlabel(xlabel = 'FAge')                 # x label\n",
    "plt.ylabel(ylabel = 'Count')                             # y label\n",
    "\n",
    "# mean and median lines\n",
    "plt.axvline(df_full['fage'].mean()    , color = \"red\"  ) # redline for mean\n",
    "plt.axvline(df_full['fage'].median()  , color = \"blue\" ) # blue line for median\n",
    "\n",
    "# checking mean and median results\n",
    "mean_fage = df_full['fage'].mean()\n",
    "median_fage = df_full['fage'].median()\n",
    "mode_fage = df_full['fage'].mode()\n",
    "print(f\"\"\" Mean:   {mean_fage}\"\"\")\n",
    "print(f\"\"\" Median: {median_fage}\"\"\")\n",
    "print(f\"\"\" Mode:   {mode_fage}\"\"\")\n",
    "\n",
    "\n",
    "# displaying the plot\n",
    "plt.show()"
   ]
  },
  {
   "cell_type": "code",
   "execution_count": 11,
   "id": "f82fb593",
   "metadata": {
    "cell_style": "split"
   },
   "outputs": [
    {
     "name": "stdout",
     "output_type": "stream",
     "text": [
      " Mean:   13.86609071274298\n",
      " Median: 14.0\n",
      " Mode:   0    12.0\n",
      "1    16.0\n",
      "Name: feduc, dtype: float64\n"
     ]
    },
    {
     "data": {
      "image/png": "[encoded data removed]",
      "text/plain": [
       "<Figure size 640x480 with 1 Axes>"
      ]
     },
     "metadata": {},
     "output_type": "display_data"
    }
   ],
   "source": [
    "# plotting 'feduc'\n",
    "sns.histplot(x = 'feduc', # x data\n",
    "            data = df_full,           # dataset\n",
    "            color = 'olive',       # color\n",
    "            kde = True)\n",
    "\n",
    "\n",
    "# title and labels\n",
    "plt.title (label  = 'Distribution of FEduc') # title\n",
    "plt.xlabel(xlabel = 'FEduc')                 # x label\n",
    "plt.ylabel(ylabel = 'Count')                             # y label\n",
    "\n",
    "# mean and median lines\n",
    "plt.axvline(df_full['feduc'].mean()    , color = \"red\"  ) # redline for mean\n",
    "plt.axvline(df_full['feduc'].median()  , color = \"blue\" ) # blue line for median\n",
    "\n",
    "# checking mean and median results\n",
    "mean_feduc = df_full['feduc'].mean()\n",
    "median_feduc = df_full['feduc'].median()\n",
    "mode_feduc = df_full['feduc'].mode()\n",
    "print(f\"\"\" Mean:   {mean_feduc}\"\"\")\n",
    "print(f\"\"\" Median: {median_feduc}\"\"\")\n",
    "print(f\"\"\" Mode:   {mode_feduc}\"\"\")\n",
    "\n",
    "\n",
    "# displaying the plot\n",
    "plt.show()"
   ]
  },
  {
   "cell_type": "markdown",
   "id": "ac73d123",
   "metadata": {},
   "source": [
    "   "
   ]
  },
  {
   "cell_type": "code",
   "execution_count": 12,
   "id": "2f2f82ca",
   "metadata": {
    "cell_style": "split"
   },
   "outputs": [
    {
     "name": "stdout",
     "output_type": "stream",
     "text": [
      " Mean:   8.225053078556263\n",
      " Median: 9.0\n",
      " Mode:   0    9.0\n",
      "Name: omaps, dtype: float64\n"
     ]
    },
    {
     "data": {
      "image/png": "[encoded data removed]",
      "text/plain": [
       "<Figure size 640x480 with 1 Axes>"
      ]
     },
     "metadata": {},
     "output_type": "display_data"
    }
   ],
   "source": [
    "# plotting 'omaps'\n",
    "sns.histplot(x = 'omaps', # x data\n",
    "            data = df_full,           # dataset\n",
    "            color = 'olive',       # color\n",
    "            kde = True)\n",
    "\n",
    "\n",
    "# title and labels\n",
    "plt.title (label  = 'Distribution of OMApS') # title\n",
    "plt.xlabel(xlabel = 'OMApS')                 # x label\n",
    "plt.ylabel(ylabel = 'Count')                             # y label\n",
    "\n",
    "# mean and median lines\n",
    "plt.axvline(df_full['omaps'].mean()    , color = \"red\"  ) # redline for mean\n",
    "plt.axvline(df_full['omaps'].median()  , color = \"blue\" ) # blue line for median\n",
    "\n",
    "# checking mean and median results\n",
    "mean_omaps = df_full['omaps'].mean()\n",
    "median_omaps = df_full['omaps'].median()\n",
    "mode_omaps = df_full['omaps'].mode()\n",
    "print(f\"\"\" Mean:   {mean_omaps}\"\"\")\n",
    "print(f\"\"\" Median: {median_omaps}\"\"\")\n",
    "print(f\"\"\" Mode:   {mode_omaps}\"\"\")\n",
    "\n",
    "\n",
    "# displaying the plot\n",
    "plt.show()"
   ]
  },
  {
   "cell_type": "code",
   "execution_count": 13,
   "id": "9a358248",
   "metadata": {
    "cell_style": "split"
   },
   "outputs": [
    {
     "name": "stdout",
     "output_type": "stream",
     "text": [
      " Mean:   8.951167728237792\n",
      " Median: 9.0\n",
      " Mode:   0    9.0\n",
      "Name: fmaps, dtype: float64\n"
     ]
    },
    {
     "data": {
      "image/png": "[encoded data removed]",
      "text/plain": [
       "<Figure size 640x480 with 1 Axes>"
      ]
     },
     "metadata": {},
     "output_type": "display_data"
    }
   ],
   "source": [
    "# plotting 'fmaps'\n",
    "sns.histplot(x = 'fmaps', # x data\n",
    "            data = df_full,           # dataset\n",
    "            color = 'olive',       # color\n",
    "            kde = True)\n",
    "\n",
    "\n",
    "# title and labels\n",
    "plt.title (label  = 'Distribution of FMApS') # title\n",
    "plt.xlabel(xlabel = 'FMApS')                 # x label\n",
    "plt.ylabel(ylabel = 'Count')                             # y label\n",
    "\n",
    "# mean and median lines\n",
    "plt.axvline(df_full['fmaps'].mean()    , color = \"red\"  ) # redline for mean\n",
    "plt.axvline(df_full['fmaps'].median()  , color = \"blue\" ) # blue line for median\n",
    "\n",
    "# checking mean and median results\n",
    "mean_fmaps = df_full['fmaps'].mean()\n",
    "median_fmaps = df_full['fmaps'].median()\n",
    "mode_fmaps = df_full['fmaps'].mode()\n",
    "print(f\"\"\" Mean:   {mean_fmaps}\"\"\")\n",
    "print(f\"\"\" Median: {median_fmaps}\"\"\")\n",
    "print(f\"\"\" Mode:   {mode_fmaps}\"\"\")\n",
    "\n",
    "\n",
    "# displaying the plot\n",
    "plt.show()"
   ]
  },
  {
   "cell_type": "markdown",
   "id": "a686ffc5",
   "metadata": {},
   "source": [
    "    "
   ]
  },
  {
   "cell_type": "code",
   "execution_count": 14,
   "id": "e2c6494f",
   "metadata": {
    "cell_style": "split"
   },
   "outputs": [
    {
     "name": "stdout",
     "output_type": "stream",
     "text": [
      " Mean:   1.1727272727272726\n",
      " Median: 0.0\n",
      " Mode:   0    0.0\n",
      "Name: cigs, dtype: float64\n"
     ]
    },
    {
     "data": {
      "image/png": "[encoded data removed]",
      "text/plain": [
       "<Figure size 640x480 with 1 Axes>"
      ]
     },
     "metadata": {},
     "output_type": "display_data"
    }
   ],
   "source": [
    "# plotting 'cigs'\n",
    "sns.histplot(x = 'cigs', # x data\n",
    "            data = df_full,           # dataset\n",
    "            color = 'olive',       # color\n",
    "            kde = True)\n",
    "\n",
    "\n",
    "# title and labels\n",
    "plt.title (label  = 'Distribution of Cigs') # title\n",
    "plt.xlabel(xlabel = 'Cigs')                 # x label\n",
    "plt.ylabel(ylabel = 'Count')                             # y label\n",
    "\n",
    "# mean and median lines\n",
    "plt.axvline(df_full['cigs'].mean()    , color = \"red\"  ) # redline for mean\n",
    "plt.axvline(df_full['cigs'].median()  , color = \"blue\" ) # blue line for median\n",
    "\n",
    "# checking mean and median results\n",
    "mean_cigs = df_full['cigs'].mean()\n",
    "median_cigs = df_full['cigs'].median()\n",
    "mode_cigs = df_full['cigs'].mode()\n",
    "print(f\"\"\" Mean:   {mean_cigs}\"\"\")\n",
    "print(f\"\"\" Median: {median_cigs}\"\"\")\n",
    "print(f\"\"\" Mode:   {mode_cigs}\"\"\")\n",
    "\n",
    "\n",
    "# displaying the plot\n",
    "plt.show()"
   ]
  },
  {
   "cell_type": "code",
   "execution_count": 15,
   "id": "9ab1cfbe",
   "metadata": {
    "cell_style": "split",
    "scrolled": false
   },
   "outputs": [
    {
     "name": "stdout",
     "output_type": "stream",
     "text": [
      " Mean:   0.02040816326530612\n",
      " Median: 0.0\n",
      " Mode:   0    0.0\n",
      "Name: drink, dtype: float64\n"
     ]
    },
    {
     "data": {
      "image/png": "[encoded data removed]",
      "text/plain": [
       "<Figure size 640x480 with 1 Axes>"
      ]
     },
     "metadata": {},
     "output_type": "display_data"
    }
   ],
   "source": [
    "# plotting 'drink'\n",
    "sns.histplot(x = 'drink', # x data\n",
    "            data = df_full,           # dataset\n",
    "            color = 'olive',       # color\n",
    "            kde = True)\n",
    "\n",
    "\n",
    "# title and labels\n",
    "plt.title (label  = 'Distribution of Drink') # title\n",
    "plt.xlabel(xlabel = 'Drink')                 # x label\n",
    "plt.ylabel(ylabel = 'Count')                             # y label\n",
    "\n",
    "# mean and median lines\n",
    "plt.axvline(df_full['drink'].mean()    , color = \"red\"  ) # redline for mean\n",
    "plt.axvline(df_full['drink'].median()  , color = \"blue\" ) # blue line for median\n",
    "\n",
    "# checking mean and median results\n",
    "mean_drink = df_full['drink'].mean()\n",
    "median_drink = df_full['drink'].median()\n",
    "mode_drink = df_full['drink'].mode()\n",
    "print(f\"\"\" Mean:   {mean_drink}\"\"\")\n",
    "print(f\"\"\" Median: {median_drink}\"\"\")\n",
    "print(f\"\"\" Mode:   {mode_drink}\"\"\")\n",
    "\n",
    "\n",
    "# displaying the plot\n",
    "plt.show()"
   ]
  },
  {
   "cell_type": "code",
   "execution_count": 16,
   "id": "8d201ad7",
   "metadata": {},
   "outputs": [
    {
     "data": {
      "text/plain": [
       "mage       0\n",
       "meduc      0\n",
       "monpre     0\n",
       "npvis      0\n",
       "fage       0\n",
       "feduc      0\n",
       "omaps      0\n",
       "fmaps      0\n",
       "cigs       0\n",
       "drink      0\n",
       "male       0\n",
       "mwhte      0\n",
       "mblck      0\n",
       "moth       0\n",
       "fwhte      0\n",
       "fblck      0\n",
       "foth       0\n",
       "bwght     64\n",
       "set        0\n",
       "dtype: int64"
      ]
     },
     "execution_count": 16,
     "metadata": {},
     "output_type": "execute_result"
    }
   ],
   "source": [
    "####### REPLACING #######\n",
    "\n",
    "mean_list= ['meduc', 'fage', 'feduc']\n",
    "\n",
    "mode_list=['npvis', 'omaps', 'fmaps', 'cigs', 'drink']\n",
    "\n",
    "def handle_missing_values(df):\n",
    "    # Impute missing values with appropriate statistics\n",
    "    for column in df.columns:\n",
    "        if df[column].name in mean_list :\n",
    "            # If numerical, impute missing values with mean\n",
    "            df[column].fillna(df[column].mean(), inplace=True)\n",
    "        elif df[column].name in mode_list:\n",
    "            # If categorical, impute missing values with mode\n",
    "            df[column].fillna(df[column].mode()[0], inplace=True)\n",
    "\n",
    "handle_missing_values(df_full)\n",
    "\n",
    "# checking results\n",
    "df_full.isnull().sum(axis = 0)"
   ]
  },
  {
   "cell_type": "markdown",
   "id": "6ca0034c",
   "metadata": {},
   "source": [
    "<h3> Removing Columns </h3>"
   ]
  },
  {
   "cell_type": "code",
   "execution_count": 17,
   "id": "78d3e2e8",
   "metadata": {},
   "outputs": [
    {
     "data": {
      "text/plain": [
       "Index(['mage', 'meduc', 'monpre', 'npvis', 'fage', 'feduc', 'cigs', 'drink', 'male', 'mwhte', 'mblck', 'moth', 'fwhte', 'fblck', 'foth', 'bwght', 'set'], dtype='object')"
      ]
     },
     "execution_count": 17,
     "metadata": {},
     "output_type": "execute_result"
    }
   ],
   "source": [
    "# dropping post-event horizon features\n",
    "df_full = df_full.drop(labels   = ['omaps', 'fmaps'],\n",
    "                       axis   = 1)\n",
    "\n",
    "# checking results\n",
    "df_full.columns"
   ]
  },
  {
   "cell_type": "markdown",
   "id": "cfd7b262",
   "metadata": {},
   "source": [
    "<h3> Visualization </h3>\n"
   ]
  },
  {
   "cell_type": "code",
   "execution_count": 18,
   "id": "409bc97d",
   "metadata": {},
   "outputs": [
    {
     "data": {
      "image/png": "[encoded data removed]",
      "text/plain": [
       "<Figure size 1000x800 with 2 Axes>"
      ]
     },
     "metadata": {},
     "output_type": "display_data"
    }
   ],
   "source": [
    "# Create a correlation heatmap to understand the correlations in the dataset\n",
    "\n",
    "# Select columns with numeric data types\n",
    "numeric = df_full.select_dtypes(include=[np.number])\n",
    "\n",
    "# Compute the correlation matrix\n",
    "corr_matrix = numeric.corr()\n",
    "\n",
    "# Set up the matplotlib figure\n",
    "plt.figure(figsize=(10, 8))\n",
    "\n",
    "# Draw the heatmap with the mask and correct aspect ratio\n",
    "sns.heatmap(corr_matrix, annot=True, fmt=\".2f\", cmap='coolwarm', square=True, linewidths=.5, cbar_kws={\"shrink\": .5})\n",
    "\n",
    "# Show the plot \n",
    "plt.show()"
   ]
  },
  {
   "cell_type": "code",
   "execution_count": 19,
   "id": "8312279a",
   "metadata": {},
   "outputs": [
    {
     "data": {
      "text/plain": [
       "bwght     1.0000\n",
       "npvis     0.1805\n",
       "fage      0.1386\n",
       "male      0.0611\n",
       "feduc     0.0598\n",
       "monpre    0.0551\n",
       "mage      0.0546\n",
       "fblck     0.0418\n",
       "mblck     0.0230\n",
       "fwhte     0.0168\n",
       "mwhte     0.0154\n",
       "meduc     0.0013\n",
       "drink    -0.0255\n",
       "cigs     -0.0297\n",
       "moth     -0.0494\n",
       "foth     -0.0746\n",
       "Name: bwght, dtype: float64"
      ]
     },
     "execution_count": 19,
     "metadata": {},
     "output_type": "execute_result"
    }
   ],
   "source": [
    "# Select columns with numeric data types\n",
    "numeric = df_full.select_dtypes(include=[np.number])\n",
    "\n",
    "# using Pearson correlation\n",
    "df_corr = numeric.corr(method = 'pearson').round(decimals = 4)\n",
    "\n",
    "\n",
    "# checking results\n",
    "df_corr.loc[ : , 'bwght' ].sort_values(ascending = False)"
   ]
  },
  {
   "cell_type": "markdown",
   "id": "d85b66e7",
   "metadata": {},
   "source": [
    "This heatmap can be helpful in feature selection for predictive modeling. The variables with higher values of correlation with birth weight might be considered more important predictors. There is a positive correlation between the number of prenatal visits (npvis) and birth weight. As the number of prenatal visits increases, birth weight tends to increase. The variables such as mwhte, mblck, fwhte, fblck show weak correlations with birthweight."
   ]
  },
  {
   "cell_type": "code",
   "execution_count": 20,
   "id": "8600ea7c",
   "metadata": {},
   "outputs": [
    {
     "data": {
      "image/png": "[encoded data removed]",
      "text/plain": [
       "<Figure size 1000x600 with 1 Axes>"
      ]
     },
     "metadata": {},
     "output_type": "display_data"
    }
   ],
   "source": [
    "# Create a scatterplot\n",
    "plt.figure(figsize=(10, 6))\n",
    "sns.scatterplot(x='npvis', y='bwght', data=df_full, alpha=0.6)\n",
    "\n",
    "\n",
    "plt.title('Relationship Between Number of Prenatal Visits and Birth Weight')\n",
    "plt.xlabel('Number of Prenatal Visits')\n",
    "plt.ylabel('Birth Weight (grams)')\n",
    "plt.grid(True)  \n",
    "plt.show()"
   ]
  },
  {
   "cell_type": "markdown",
   "id": "b1508638",
   "metadata": {},
   "source": [
    "The scatter plot is a visual representation of how the number of prenatal visits a mother has during pregnancy might correlate with the birthweight of her baby. The data points represent an individual case within the dataset, plotting the prenatal visits against the baby’s birthweight in grams. It can be seen that a positive correlation would suggest that increased prenatal care is associated with higher birth weights.\n",
    "\n",
    "Prenatal care can help prevent complications and inform women on how they can protect their infant and ensure a healthy pregnancy. This is for the pregnant women to practice a healthy and safe diet. "
   ]
  },
  {
   "cell_type": "markdown",
   "id": "638bf081",
   "metadata": {},
   "source": [
    "<h2> Feature Engineering </h2>"
   ]
  },
  {
   "cell_type": "markdown",
   "id": "2fcfbe85",
   "metadata": {},
   "source": [
    "<h3> Feature 1: Low Birth Weight </h3>"
   ]
  },
  {
   "cell_type": "code",
   "execution_count": 21,
   "id": "4404afe2",
   "metadata": {},
   "outputs": [],
   "source": [
    "# low birth weight: Yes or No\n",
    "\n",
    "# Initialize the new column with zeros (assuming 'low_bwght' = 0 means not low birth weight)\n",
    "df_full['low_bwght'] = 0\n",
    "\n",
    "# Apply conditions to set 'low_bwght' = 1 based on the given criteria\n",
    "df_full.loc[(df_full['male'] == 1) & (df_full['bwght'] < 3300), 'low_bwght'] = 1\n",
    "df_full.loc[(df_full['male'] == 0) & (df_full['bwght'] < 3200), 'low_bwght'] = 1\n",
    "\n",
    "# Display the updated DataFrame to verify the new feature\n",
    "#df_full[['male', 'bwght', 'low_bwght']].head()\n",
    "\n",
    "#df_full['low_bwght'] = (df_full['bwght'] < 2500).astype(int)"
   ]
  },
  {
   "cell_type": "markdown",
   "id": "b46bd916",
   "metadata": {},
   "source": [
    "In an article, WHO explained that the average birth weight of a full-term male baby is 3.3 kilograms (kg). The average birth weight of a full-term female is 3.2 kg. Babies to lose around 10% of their weight shortly after birth. This decrease is mostly due to fluid loss and most of them gain back this weight within 1 week. It was also mentioned that newborns who are lighter or heavier than the average baby are usually fine. This feature will help determine if the baby has low birth weight or not."
   ]
  },
  {
   "cell_type": "markdown",
   "id": "a0003463",
   "metadata": {},
   "source": [
    "<h3> Feature 2: Lifestyle Risk Score </h3>"
   ]
  },
  {
   "cell_type": "code",
   "execution_count": 22,
   "id": "86cc2e0f",
   "metadata": {},
   "outputs": [],
   "source": [
    "df_full['Lifestyle_Risk_Score'] = df_full['cigs'] + df_full['drink']"
   ]
  },
  {
   "cell_type": "markdown",
   "id": "35904bb0",
   "metadata": {},
   "source": [
    "This aims to quantify lifestyle-related risk factors. It provides a simple yet insightful indicator of potential health risks associated with smoking and alcohol consumption habits. Pregnants who smoke are more likely to have a baby who weighs too low at birth than pregnants who don’t. Smoking, drinking alcohol, using street drugs, and abusing prescription drugs during pregnancy can slow the baby’s growth in the womb and thid can increase the risk for preterm birth and birth defects."
   ]
  },
  {
   "cell_type": "markdown",
   "id": "31727608",
   "metadata": {},
   "source": [
    "<h3> Feature 3: Teenage Pregnancy </h3>"
   ]
  },
  {
   "cell_type": "code",
   "execution_count": 23,
   "id": "a7a3da78",
   "metadata": {},
   "outputs": [],
   "source": [
    "df_full['teenage_pregnancy'] = (df_full['mage'] < 20).astype(int)"
   ]
  },
  {
   "cell_type": "markdown",
   "id": "68edcc4c",
   "metadata": {},
   "source": [
    "Teenage pregnants are more likely to have low birth weight baby. The risk of delivering low birth weight babies is almost twice as much for pregnants who are younger than 20 years old. It was said that low birth weight was more common in newborns born to adolescent birthing persons than in those born to adult mothers. Infants of teenage births have more risk of poor infant outcomes, that is why prenatal care is essential to the overall health of infants and their mothers. "
   ]
  },
  {
   "cell_type": "markdown",
   "id": "43ab99ee",
   "metadata": {},
   "source": [
    "<h3> Feature 4: Prenatal Care </h3>"
   ]
  },
  {
   "cell_type": "code",
   "execution_count": 24,
   "id": "fc43c1b7",
   "metadata": {},
   "outputs": [],
   "source": [
    "df_full['prenatal_care'] = df_full['monpre'] + df_full['npvis']"
   ]
  },
  {
   "cell_type": "markdown",
   "id": "6e4ecf26",
   "metadata": {},
   "source": [
    "Early prenatal care and a higher number of visits are both associated with better pregnancy outcomes. By combining these, the prenatal_care feature summarizes a broader dimension of care accessibility and utilization. This measure serves as an indicator of a pregnant person's access to healthcare services. Accessibility issues, such as location from clinics or hospitals, financial constraints, or lack of awareness, can negatively impact both monpre and npvis. This makes it a valuable substitute for understanding inconsistencies in healthcare access."
   ]
  },
  {
   "cell_type": "markdown",
   "id": "b592b81d",
   "metadata": {},
   "source": [
    "<h3> Feature 3: Smokes and Drinks </h3>"
   ]
  },
  {
   "cell_type": "code",
   "execution_count": 25,
   "id": "7a011798",
   "metadata": {},
   "outputs": [],
   "source": [
    "df_full['smokes'] = (df_full['cigs'] > 0).astype(int)\n",
    "df_full['drinks'] = (df_full['drink'] > 0).astype(int)"
   ]
  },
  {
   "cell_type": "markdown",
   "id": "a6b23f5c",
   "metadata": {},
   "source": [
    "To simplify the data, cigs and drink where converted to 1, 0. This would be easier to interpret or analyze in throughout the study. The behavior is more significant than the quantity of cigarettes. Such behaviors are often associated with health risks, and making these indicators would be valuable for risk assessment and intervention planning.This can improve the performance of models by providing distinct categories."
   ]
  },
  {
   "cell_type": "markdown",
   "id": "8bfccb6e",
   "metadata": {},
   "source": [
    "<h3> Feature 4: Maternal and Paternal Age </h3>"
   ]
  },
  {
   "cell_type": "code",
   "execution_count": 26,
   "id": "57d8a177",
   "metadata": {},
   "outputs": [],
   "source": [
    "df_full['parent35'] = ((df_full['fage'] >= 35) | (df_full['mage'] >= 35)).astype(int)"
   ]
  },
  {
   "cell_type": "markdown",
   "id": "2838d649",
   "metadata": {},
   "source": [
    "Chung, Hwang, Jung, & Ko(2022), found that paternal age is also significantly associated with low birth weight. Studies revealed  that advanced (>=35) maternal age is a risk factor for many complications in pregnancy. It was observed that some advanced (>=35) paternal age has been associated with genetic mutations, miscarriage, preeclampsia and some birth defects. This feature will also be a help in identifying if the results from the studies vary. In this paper, it will be analyzed if this significantly determine the birth weight of babies."
   ]
  },
  {
   "cell_type": "markdown",
   "id": "dc56c07f",
   "metadata": {},
   "source": [
    "<h3> Removing Columns </h3>"
   ]
  },
  {
   "cell_type": "code",
   "execution_count": 27,
   "id": "c193c399",
   "metadata": {},
   "outputs": [],
   "source": [
    "# dropping post-event horizon features\n",
    "df_full = df_full.drop(labels   = ['cigs', 'drink'],\n",
    "                       axis   = 1)"
   ]
  },
  {
   "cell_type": "markdown",
   "id": "226d4511",
   "metadata": {},
   "source": [
    "<h2> Transformation and Standardization </h2>"
   ]
  },
  {
   "cell_type": "code",
   "execution_count": 28,
   "id": "92171d0d",
   "metadata": {},
   "outputs": [
    {
     "data": {
      "text/plain": [
       "Index(['mage', 'meduc', 'monpre', 'npvis', 'fage', 'feduc', 'male', 'mwhte', 'mblck', 'moth', 'fwhte', 'fblck', 'foth', 'bwght', 'set', 'low_bwght', 'Lifestyle_Risk_Score', 'teenage_pregnancy', 'prenatal_care', 'smokes', 'drinks', 'parent35'], dtype='object')"
      ]
     },
     "execution_count": 28,
     "metadata": {},
     "output_type": "execute_result"
    }
   ],
   "source": [
    "df_full.columns"
   ]
  },
  {
   "cell_type": "code",
   "execution_count": 29,
   "id": "a395bca5",
   "metadata": {},
   "outputs": [],
   "source": [
    "x_data = df_full[['mage', 'meduc', 'monpre', 'npvis', 'fage', 'feduc', \n",
    "           'male', 'mwhte', 'mblck', 'moth', \n",
    "          'fwhte', 'fblck', 'foth', 'Lifestyle_Risk_Score', \n",
    "                  'teenage_pregnancy', 'prenatal_care', 'smokes', 'drinks', 'parent35']]"
   ]
  },
  {
   "cell_type": "code",
   "execution_count": 30,
   "id": "a902b50d",
   "metadata": {},
   "outputs": [],
   "source": [
    "########################################\n",
    "# standard_scaler\n",
    "########################################\n",
    "def standard_scaler(df):\n",
    "    \"\"\"\n",
    "    Standardizes a dataset (mean = 0, variance = 1). Returns a new DataFrame.\n",
    "    Requires sklearn.preprocessing.StandardScaler()\n",
    "    \n",
    "    PARAMETERS\n",
    "    ----------\n",
    "    df     | DataFrame to be used for scaling\n",
    "    \"\"\"\n",
    "\n",
    "    # INSTANTIATING a StandardScaler() object\n",
    "    scaler = StandardScaler(copy = True)\n",
    "\n",
    "\n",
    "    # FITTING the scaler with the data\n",
    "    scaler.fit(df)\n",
    "\n",
    "\n",
    "    # TRANSFORMING our data after fit\n",
    "    x_scaled = scaler.transform(df)\n",
    "\n",
    "    \n",
    "    # converting scaled data into a DataFrame\n",
    "    new_df = pd.DataFrame(x_scaled)\n",
    "\n",
    "\n",
    "    # reattaching column names\n",
    "    new_df.columns = list(df.columns)\n",
    "    \n",
    "    return new_df\n",
    "\n",
    "\n",
    "\n",
    "########################################\n",
    "## visual_cm\n",
    "########################################\n",
    "def visual_cm(true_y, pred_y, labels = None):\n",
    "    \"\"\"\n",
    "Creates a visualization of a confusion matrix.\n",
    "\n",
    "PARAMETERS\n",
    "----------\n",
    "true_y : true values for the response variable\n",
    "pred_y : predicted values for the response variable\n",
    "labels : , default None\n",
    "    \"\"\"\n",
    "    # visualizing the confusion matrix\n",
    "\n",
    "    # setting labels\n",
    "    lbls = labels\n",
    "    \n",
    "\n",
    "    # declaring a confusion matrix object\n",
    "    cm = confusion_matrix(y_true = true_y,\n",
    "                          y_pred = pred_y)\n",
    "\n",
    "\n",
    "    # heatmap\n",
    "    sns.heatmap(cm,\n",
    "                annot       = True,\n",
    "                xticklabels = lbls,\n",
    "                yticklabels = lbls,\n",
    "                cmap        = 'Blues',\n",
    "                fmt         = 'g')\n",
    "\n",
    "\n",
    "    plt.xlabel('Predicted')\n",
    "    plt.ylabel('Actual')\n",
    "    plt.title('Confusion Matrix of the Classifier')\n",
    "    plt.show()"
   ]
  },
  {
   "cell_type": "code",
   "execution_count": 31,
   "id": "27f7ed03",
   "metadata": {},
   "outputs": [
    {
     "data": {
      "text/plain": [
       "Index(['mage', 'meduc', 'monpre', 'npvis', 'fage', 'feduc', 'male', 'mwhte', 'mblck', 'moth', 'fwhte', 'fblck', 'foth', 'bwght', 'set', 'low_bwght', 'Lifestyle_Risk_Score', 'teenage_pregnancy', 'prenatal_care', 'smokes', 'drinks', 'parent35'], dtype='object')"
      ]
     },
     "execution_count": 31,
     "metadata": {},
     "output_type": "execute_result"
    }
   ],
   "source": [
    "df_full.columns"
   ]
  },
  {
   "cell_type": "code",
   "execution_count": 32,
   "id": "baa3c8e9",
   "metadata": {},
   "outputs": [
    {
     "name": "stdout",
     "output_type": "stream",
     "text": [
      "\n",
      "Point-Biserial Correlations\n",
      "---------------------------\n",
      "bwght                   1.0000\n",
      "prenatal_care           0.1982\n",
      "npvis                   0.1805\n",
      "fage                    0.1386\n",
      "feduc                   0.0598\n",
      "monpre                  0.0551\n",
      "mage                    0.0546\n",
      "meduc                   0.0013\n",
      "Lifestyle_Risk_Score   -0.0309\n",
      "Name: bwght, dtype: float64\n",
      "\n",
      "\n",
      "Phi Coefficients\n",
      "----------------\n",
      "bwght                1.0000\n",
      "teenage_pregnancy    0.2047\n",
      "foth                 0.1277\n",
      "moth                 0.1086\n",
      "mwhte                0.1006\n",
      "fwhte                0.0727\n",
      "male                 0.0376\n",
      "mblck                0.0000\n",
      "fblck                0.0000\n",
      "smokes               0.0000\n",
      "drinks               0.0000\n",
      "parent35             0.0000\n",
      "Name: bwght, dtype: float64\n",
      "\n"
     ]
    }
   ],
   "source": [
    "# creating feature sets\n",
    "continuous     = ['mage', 'meduc', 'monpre', 'npvis', 'fage', 'feduc', \n",
    "                 'bwght', 'Lifestyle_Risk_Score',\n",
    "                  'prenatal_care' ]\n",
    "\n",
    "non_continuous = ['male', 'mwhte', 'mblck', 'moth', 'fwhte',\n",
    "                  'fblck','foth', 'bwght', 'teenage_pregnancy', 'smokes', 'drinks', 'parent35']\n",
    "\n",
    "# pearson correlation\n",
    "df_full_corr = df_full[ continuous ].corr(method = 'pearson').round(decimals = 4)\n",
    "\n",
    "\n",
    "# phi coefficient\n",
    "df_full_phi_corr = df_full[ non_continuous ].phik_matrix(interval_cols = non_continuous).round(decimals = 4)\n",
    "\n",
    "\n",
    "# checking results\n",
    "print(f\"\"\"\n",
    "Point-Biserial Correlations\n",
    "---------------------------\n",
    "{df_full_corr.loc[ : , 'bwght' ].sort_values(ascending = False)}\n",
    "\n",
    "\n",
    "Phi Coefficients\n",
    "----------------\n",
    "{df_full_phi_corr.loc[ : , 'bwght' ].sort_values(ascending = False)}\n",
    "\"\"\")"
   ]
  },
  {
   "cell_type": "code",
   "execution_count": 33,
   "id": "c67eb487",
   "metadata": {},
   "outputs": [
    {
     "data": {
      "text/plain": [
       "mage                    -0.01\n",
       "meduc                   -0.41\n",
       "monpre                   2.12\n",
       "npvis                    1.38\n",
       "fage                     0.65\n",
       "feduc                   -0.47\n",
       "male                    -0.02\n",
       "mwhte                   -2.22\n",
       "mblck                    3.27\n",
       "moth                     3.92\n",
       "fwhte                   -2.31\n",
       "fblck                    3.27\n",
       "foth                     4.21\n",
       "Lifestyle_Risk_Score     4.14\n",
       "teenage_pregnancy        7.52\n",
       "prenatal_care            2.07\n",
       "smokes                   2.95\n",
       "drinks                  10.77\n",
       "parent35                 0.68\n",
       "dtype: float64"
      ]
     },
     "execution_count": 33,
     "metadata": {},
     "output_type": "execute_result"
    }
   ],
   "source": [
    "\n",
    "\n",
    "# Checking skewness of only numeric columns\n",
    "#x_data_skew = x_data.skew().round(decimals=2)\n",
    "\n",
    "# subsetting X-data\n",
    "x_data_skew = df_full.loc[ : , 'Lifestyle_Risk_Score': ]\n",
    "\n",
    "\n",
    "# checking skewness\n",
    "x_data.skew().round(decimals = 2)\n",
    "\n"
   ]
  },
  {
   "cell_type": "code",
   "execution_count": 34,
   "id": "e6b80089",
   "metadata": {},
   "outputs": [
    {
     "name": "stdout",
     "output_type": "stream",
     "text": [
      "mage                    -0.02\n",
      "meduc                   -0.03\n",
      "monpre                  -0.03\n",
      "npvis                    0.27\n",
      "fage                     0.00\n",
      "feduc                   -0.11\n",
      "male                    -0.02\n",
      "mwhte                   -2.22\n",
      "mblck                    3.27\n",
      "moth                     3.92\n",
      "fwhte                   -2.31\n",
      "fblck                    3.27\n",
      "foth                     4.21\n",
      "Lifestyle_Risk_Score     2.90\n",
      "teenage_pregnancy        7.52\n",
      "prenatal_care            0.45\n",
      "smokes                   2.95\n",
      "drinks                  10.77\n",
      "parent35                 0.68\n",
      "dtype: float64\n"
     ]
    }
   ],
   "source": [
    "# yeo-johnson transformation\n",
    "\n",
    "# Applying the Yeo-Johnson transformation to the numeric columns\n",
    "x_transformed = power_transform(X=x_data, method='yeo-johnson', standardize=True)\n",
    "\n",
    "# Storing results as a DataFrame with the same column names as the numeric data\n",
    "x_transformed_df = pd.DataFrame(data=x_transformed, columns=x_data.columns)\n",
    "\n",
    "# Checking skewness results after transformation\n",
    "x_transformed_skew = x_transformed_df.skew().round(decimals=2)\n",
    "\n",
    "print(x_transformed_skew)\n"
   ]
  },
  {
   "cell_type": "code",
   "execution_count": 35,
   "id": "210fd3f1",
   "metadata": {},
   "outputs": [
    {
     "data": {
      "text/plain": [
       "mage                   -0.01\n",
       "meduc                   0.38\n",
       "monpre                  2.09\n",
       "npvis                   1.11\n",
       "fage                    0.65\n",
       "feduc                   0.36\n",
       "male                    0.00\n",
       "mwhte                   0.00\n",
       "mblck                   0.00\n",
       "moth                    0.00\n",
       "fwhte                   0.00\n",
       "fblck                   0.00\n",
       "foth                    0.00\n",
       "Lifestyle_Risk_Score    1.24\n",
       "teenage_pregnancy       0.00\n",
       "prenatal_care           1.62\n",
       "smokes                  0.00\n",
       "drinks                  0.00\n",
       "parent35                0.00\n",
       "dtype: float64"
      ]
     },
     "execution_count": 35,
     "metadata": {},
     "output_type": "execute_result"
    }
   ],
   "source": [
    "# calculating difference in skew\n",
    "abs(x_data.skew().round(decimals = 2)) - abs(x_transformed_df.skew().round(decimals = 2))"
   ]
  },
  {
   "cell_type": "code",
   "execution_count": 36,
   "id": "d68c5108",
   "metadata": {},
   "outputs": [
    {
     "data": {
      "text/html": [
       "<div>\n",
       "<style scoped>\n",
       "    .dataframe tbody tr th:only-of-type {\n",
       "        vertical-align: middle;\n",
       "    }\n",
       "\n",
       "    .dataframe tbody tr th {\n",
       "        vertical-align: top;\n",
       "    }\n",
       "\n",
       "    .dataframe thead th {\n",
       "        text-align: right;\n",
       "    }\n",
       "</style>\n",
       "<table border=\"1\" class=\"dataframe\">\n",
       "  <thead>\n",
       "    <tr style=\"text-align: right;\">\n",
       "      <th></th>\n",
       "      <th>mage</th>\n",
       "      <th>meduc</th>\n",
       "      <th>monpre</th>\n",
       "      <th>npvis</th>\n",
       "      <th>fage</th>\n",
       "      <th>feduc</th>\n",
       "      <th>male</th>\n",
       "      <th>mwhte</th>\n",
       "      <th>mblck</th>\n",
       "      <th>moth</th>\n",
       "      <th>fwhte</th>\n",
       "      <th>fblck</th>\n",
       "      <th>foth</th>\n",
       "      <th>Lifestyle_Risk_Score</th>\n",
       "      <th>teenage_pregnancy</th>\n",
       "      <th>prenatal_care</th>\n",
       "      <th>smokes</th>\n",
       "      <th>drinks</th>\n",
       "      <th>parent35</th>\n",
       "    </tr>\n",
       "  </thead>\n",
       "  <tbody>\n",
       "    <tr>\n",
       "      <th>count</th>\n",
       "      <td>473.00</td>\n",
       "      <td>473.00</td>\n",
       "      <td>473.00</td>\n",
       "      <td>473.00</td>\n",
       "      <td>473.00</td>\n",
       "      <td>473.00</td>\n",
       "      <td>473.00</td>\n",
       "      <td>473.00</td>\n",
       "      <td>473.00</td>\n",
       "      <td>473.00</td>\n",
       "      <td>473.00</td>\n",
       "      <td>473.00</td>\n",
       "      <td>473.00</td>\n",
       "      <td>473.00</td>\n",
       "      <td>473.00</td>\n",
       "      <td>473.00</td>\n",
       "      <td>473.00</td>\n",
       "      <td>473.00</td>\n",
       "      <td>473.00</td>\n",
       "    </tr>\n",
       "    <tr>\n",
       "      <th>mean</th>\n",
       "      <td>0.00</td>\n",
       "      <td>0.00</td>\n",
       "      <td>0.00</td>\n",
       "      <td>0.00</td>\n",
       "      <td>0.00</td>\n",
       "      <td>-0.00</td>\n",
       "      <td>0.00</td>\n",
       "      <td>0.00</td>\n",
       "      <td>-0.00</td>\n",
       "      <td>-0.00</td>\n",
       "      <td>-0.00</td>\n",
       "      <td>0.00</td>\n",
       "      <td>0.00</td>\n",
       "      <td>-0.00</td>\n",
       "      <td>-0.00</td>\n",
       "      <td>0.00</td>\n",
       "      <td>-0.00</td>\n",
       "      <td>-0.00</td>\n",
       "      <td>-0.00</td>\n",
       "    </tr>\n",
       "    <tr>\n",
       "      <th>std</th>\n",
       "      <td>1.00</td>\n",
       "      <td>1.00</td>\n",
       "      <td>1.00</td>\n",
       "      <td>1.00</td>\n",
       "      <td>1.00</td>\n",
       "      <td>1.00</td>\n",
       "      <td>1.00</td>\n",
       "      <td>1.00</td>\n",
       "      <td>1.00</td>\n",
       "      <td>1.00</td>\n",
       "      <td>1.00</td>\n",
       "      <td>1.00</td>\n",
       "      <td>1.00</td>\n",
       "      <td>1.00</td>\n",
       "      <td>1.00</td>\n",
       "      <td>1.00</td>\n",
       "      <td>1.00</td>\n",
       "      <td>1.00</td>\n",
       "      <td>1.00</td>\n",
       "    </tr>\n",
       "    <tr>\n",
       "      <th>min</th>\n",
       "      <td>-2.71</td>\n",
       "      <td>-3.65</td>\n",
       "      <td>-4.31</td>\n",
       "      <td>-4.17</td>\n",
       "      <td>-2.90</td>\n",
       "      <td>-2.69</td>\n",
       "      <td>-1.01</td>\n",
       "      <td>-2.60</td>\n",
       "      <td>-0.28</td>\n",
       "      <td>-0.24</td>\n",
       "      <td>-2.67</td>\n",
       "      <td>-0.28</td>\n",
       "      <td>-0.23</td>\n",
       "      <td>-0.31</td>\n",
       "      <td>-0.13</td>\n",
       "      <td>-5.39</td>\n",
       "      <td>-0.31</td>\n",
       "      <td>-0.09</td>\n",
       "      <td>-0.72</td>\n",
       "    </tr>\n",
       "    <tr>\n",
       "      <th>25%</th>\n",
       "      <td>-0.74</td>\n",
       "      <td>-0.83</td>\n",
       "      <td>-1.24</td>\n",
       "      <td>-0.36</td>\n",
       "      <td>-0.65</td>\n",
       "      <td>-0.90</td>\n",
       "      <td>-1.01</td>\n",
       "      <td>0.38</td>\n",
       "      <td>-0.28</td>\n",
       "      <td>-0.24</td>\n",
       "      <td>0.37</td>\n",
       "      <td>-0.28</td>\n",
       "      <td>-0.23</td>\n",
       "      <td>-0.31</td>\n",
       "      <td>-0.13</td>\n",
       "      <td>-0.42</td>\n",
       "      <td>-0.31</td>\n",
       "      <td>-0.09</td>\n",
       "      <td>-0.72</td>\n",
       "    </tr>\n",
       "    <tr>\n",
       "      <th>50%</th>\n",
       "      <td>0.04</td>\n",
       "      <td>-0.06</td>\n",
       "      <td>0.10</td>\n",
       "      <td>0.17</td>\n",
       "      <td>0.05</td>\n",
       "      <td>-0.02</td>\n",
       "      <td>0.99</td>\n",
       "      <td>0.38</td>\n",
       "      <td>-0.28</td>\n",
       "      <td>-0.24</td>\n",
       "      <td>0.37</td>\n",
       "      <td>-0.28</td>\n",
       "      <td>-0.23</td>\n",
       "      <td>-0.31</td>\n",
       "      <td>-0.13</td>\n",
       "      <td>0.12</td>\n",
       "      <td>-0.31</td>\n",
       "      <td>-0.09</td>\n",
       "      <td>-0.72</td>\n",
       "    </tr>\n",
       "    <tr>\n",
       "      <th>75%</th>\n",
       "      <td>0.63</td>\n",
       "      <td>1.13</td>\n",
       "      <td>0.88</td>\n",
       "      <td>0.17</td>\n",
       "      <td>0.69</td>\n",
       "      <td>1.00</td>\n",
       "      <td>0.99</td>\n",
       "      <td>0.38</td>\n",
       "      <td>-0.28</td>\n",
       "      <td>-0.24</td>\n",
       "      <td>0.37</td>\n",
       "      <td>-0.28</td>\n",
       "      <td>-0.23</td>\n",
       "      <td>-0.31</td>\n",
       "      <td>-0.13</td>\n",
       "      <td>0.38</td>\n",
       "      <td>-0.31</td>\n",
       "      <td>-0.09</td>\n",
       "      <td>1.39</td>\n",
       "    </tr>\n",
       "    <tr>\n",
       "      <th>max</th>\n",
       "      <td>2.78</td>\n",
       "      <td>1.68</td>\n",
       "      <td>2.54</td>\n",
       "      <td>5.14</td>\n",
       "      <td>3.73</td>\n",
       "      <td>1.57</td>\n",
       "      <td>0.99</td>\n",
       "      <td>0.38</td>\n",
       "      <td>3.54</td>\n",
       "      <td>4.15</td>\n",
       "      <td>0.37</td>\n",
       "      <td>3.54</td>\n",
       "      <td>4.42</td>\n",
       "      <td>3.21</td>\n",
       "      <td>7.62</td>\n",
       "      <td>5.63</td>\n",
       "      <td>3.25</td>\n",
       "      <td>10.83</td>\n",
       "      <td>1.39</td>\n",
       "    </tr>\n",
       "  </tbody>\n",
       "</table>\n",
       "</div>"
      ],
      "text/plain": [
       "         mage   meduc  monpre   npvis    fage   feduc    male   mwhte   mblck    moth   fwhte   fblck    foth  Lifestyle_Risk_Score  teenage_pregnancy  prenatal_care  smokes  drinks  parent35\n",
       "count  473.00  473.00  473.00  473.00  473.00  473.00  473.00  473.00  473.00  473.00  473.00  473.00  473.00                473.00             473.00         473.00  473.00  473.00    473.00\n",
       "mean     0.00    0.00    0.00    0.00    0.00   -0.00    0.00    0.00   -0.00   -0.00   -0.00    0.00    0.00                 -0.00              -0.00           0.00   -0.00   -0.00     -0.00\n",
       "std      1.00    1.00    1.00    1.00    1.00    1.00    1.00    1.00    1.00    1.00    1.00    1.00    1.00                  1.00               1.00           1.00    1.00    1.00      1.00\n",
       "min     -2.71   -3.65   -4.31   -4.17   -2.90   -2.69   -1.01   -2.60   -0.28   -0.24   -2.67   -0.28   -0.23                 -0.31              -0.13          -5.39   -0.31   -0.09     -0.72\n",
       "25%     -0.74   -0.83   -1.24   -0.36   -0.65   -0.90   -1.01    0.38   -0.28   -0.24    0.37   -0.28   -0.23                 -0.31              -0.13          -0.42   -0.31   -0.09     -0.72\n",
       "50%      0.04   -0.06    0.10    0.17    0.05   -0.02    0.99    0.38   -0.28   -0.24    0.37   -0.28   -0.23                 -0.31              -0.13           0.12   -0.31   -0.09     -0.72\n",
       "75%      0.63    1.13    0.88    0.17    0.69    1.00    0.99    0.38   -0.28   -0.24    0.37   -0.28   -0.23                 -0.31              -0.13           0.38   -0.31   -0.09      1.39\n",
       "max      2.78    1.68    2.54    5.14    3.73    1.57    0.99    0.38    3.54    4.15    0.37    3.54    4.42                  3.21               7.62           5.63    3.25   10.83      1.39"
      ]
     },
     "execution_count": 36,
     "metadata": {},
     "output_type": "execute_result"
    }
   ],
   "source": [
    "# standardizing X-data (st = scaled and transformed)\n",
    "x_data_st = standard_scaler(df = x_transformed_df)\n",
    "\n",
    "\n",
    "# checking results\n",
    "x_data_st.describe(include = 'number').round(decimals = 2)"
   ]
  },
  {
   "cell_type": "markdown",
   "id": "6ddb3af2",
   "metadata": {},
   "source": [
    "   "
   ]
  },
  {
   "cell_type": "markdown",
   "id": "2783aa5f",
   "metadata": {},
   "source": [
    "<h2> Data Partitioning </h2>"
   ]
  },
  {
   "cell_type": "markdown",
   "id": "b5b004ec",
   "metadata": {},
   "source": [
    "<h3> Assigning Kaggle Data </h3>"
   ]
  },
  {
   "cell_type": "code",
   "execution_count": 37,
   "id": "a5708a5e",
   "metadata": {},
   "outputs": [],
   "source": [
    "# Dataset for kaggle\n",
    "kaggle_data = df_full[ df_full['set'] == 'Kaggle' ].copy()\n",
    "\n",
    "# Dataset for model building\n",
    "df = df_full[ df_full['set'] == 'Not Kaggle' ].copy()\n",
    "\n",
    "# Dropping set identifier (kaggle)\n",
    "kaggle_data.drop(labels = 'set',\n",
    "                 axis = 1,\n",
    "                 inplace = True)\n",
    "\n",
    "# Dropping set identifier (model building)\n",
    "df.drop(labels = 'set',\n",
    "        axis = 1,\n",
    "        inplace = True)"
   ]
  },
  {
   "cell_type": "markdown",
   "id": "bfcc291b",
   "metadata": {},
   "source": [
    "<h3> Train-Test-Split </h3>"
   ]
  },
  {
   "cell_type": "code",
   "execution_count": 38,
   "id": "6104a0d2",
   "metadata": {},
   "outputs": [
    {
     "data": {
      "text/plain": [
       "low_bwght\n",
       "0    0.54\n",
       "1    0.46\n",
       "Name: proportion, dtype: float64"
      ]
     },
     "execution_count": 38,
     "metadata": {},
     "output_type": "execute_result"
    }
   ],
   "source": [
    "# survival proportions\n",
    "df.loc[ : ,'low_bwght'].value_counts(normalize = True).round(decimals = 2)"
   ]
  },
  {
   "cell_type": "code",
   "execution_count": 39,
   "id": "2850a290",
   "metadata": {},
   "outputs": [
    {
     "name": "stdout",
     "output_type": "stream",
     "text": [
      "Warning: Maximum number of iterations has been exceeded.\n",
      "         Current function value: 0.644445\n",
      "         Iterations: 35\n"
     ]
    },
    {
     "data": {
      "text/html": [
       "<table class=\"simpletable\">\n",
       "<tr>\n",
       "        <td>Model:</td>              <td>Logit</td>           <td>Method:</td>         <td>MLE</td>  \n",
       "</tr>\n",
       "<tr>\n",
       "  <td>Dependent Variable:</td>     <td>low_bwght</td>    <td>Pseudo R-squared:</td>   <td>0.040</td> \n",
       "</tr>\n",
       "<tr>\n",
       "         <td>Date:</td>        <td>2024-04-05 20:07</td>       <td>AIC:</td>        <td>635.6445</td>\n",
       "</tr>\n",
       "<tr>\n",
       "   <td>No. Observations:</td>         <td>473</td>             <td>BIC:</td>        <td>689.7128</td>\n",
       "</tr>\n",
       "<tr>\n",
       "       <td>Df Model:</td>             <td>12</td>         <td>Log-Likelihood:</td>   <td>-304.82</td>\n",
       "</tr>\n",
       "<tr>\n",
       "     <td>Df Residuals:</td>           <td>460</td>           <td>LL-Null:</td>       <td>-317.42</td>\n",
       "</tr>\n",
       "<tr>\n",
       "      <td>Converged:</td>           <td>0.0000</td>        <td>LLR p-value:</td>    <td>0.013913</td>\n",
       "</tr>\n",
       "<tr>\n",
       "    <td>No. Iterations:</td>        <td>35.0000</td>          <td>Scale:</td>        <td>1.0000</td> \n",
       "</tr>\n",
       "</table>\n",
       "<table class=\"simpletable\">\n",
       "<tr>\n",
       "            <td></td>             <th>Coef.</th>  <th>Std.Err.</th>    <th>z</th>     <th>P>|z|</th> <th>[0.025</th>  <th>0.975]</th>\n",
       "</tr>\n",
       "<tr>\n",
       "  <th>Intercept</th>             <td>0.3711</td>     <td>nan</td>     <td>nan</td>     <td>nan</td>    <td>nan</td>     <td>nan</td> \n",
       "</tr>\n",
       "<tr>\n",
       "  <th>monpre</th>                <td>-0.0394</td>    <td>nan</td>     <td>nan</td>     <td>nan</td>    <td>nan</td>     <td>nan</td> \n",
       "</tr>\n",
       "<tr>\n",
       "  <th>npvis</th>                 <td>-0.0067</td>    <td>nan</td>     <td>nan</td>     <td>nan</td>    <td>nan</td>     <td>nan</td> \n",
       "</tr>\n",
       "<tr>\n",
       "  <th>smokes</th>                <td>0.5155</td>   <td>0.7003</td>  <td>0.7360</td>  <td>0.4617</td> <td>-0.8571</td> <td>1.8881</td>\n",
       "</tr>\n",
       "<tr>\n",
       "  <th>drinks</th>                <td>1.4076</td>   <td>1.2022</td>  <td>1.1709</td>  <td>0.2416</td> <td>-0.9486</td> <td>3.7638</td>\n",
       "</tr>\n",
       "<tr>\n",
       "  <th>male</th>                  <td>-0.0030</td>  <td>0.1979</td>  <td>-0.0153</td> <td>0.9878</td> <td>-0.3910</td> <td>0.3849</td>\n",
       "</tr>\n",
       "<tr>\n",
       "  <th>mwhte</th>                 <td>7.1643</td>     <td>nan</td>     <td>nan</td>     <td>nan</td>    <td>nan</td>     <td>nan</td> \n",
       "</tr>\n",
       "<tr>\n",
       "  <th>mblck</th>                 <td>8.2444</td>     <td>nan</td>     <td>nan</td>     <td>nan</td>    <td>nan</td>     <td>nan</td> \n",
       "</tr>\n",
       "<tr>\n",
       "  <th>moth</th>                 <td>-15.0376</td>    <td>nan</td>     <td>nan</td>     <td>nan</td>    <td>nan</td>     <td>nan</td> \n",
       "</tr>\n",
       "<tr>\n",
       "  <th>fwhte</th>                 <td>-7.2605</td>    <td>nan</td>     <td>nan</td>     <td>nan</td>    <td>nan</td>     <td>nan</td> \n",
       "</tr>\n",
       "<tr>\n",
       "  <th>fblck</th>                 <td>-8.4353</td>    <td>nan</td>     <td>nan</td>     <td>nan</td>    <td>nan</td>     <td>nan</td> \n",
       "</tr>\n",
       "<tr>\n",
       "  <th>foth</th>                  <td>16.0670</td>    <td>nan</td>     <td>nan</td>     <td>nan</td>    <td>nan</td>     <td>nan</td> \n",
       "</tr>\n",
       "<tr>\n",
       "  <th>Lifestyle_Risk_Score</th>  <td>-0.0093</td>  <td>0.0479</td>  <td>-0.1941</td> <td>0.8461</td> <td>-0.1031</td> <td>0.0845</td>\n",
       "</tr>\n",
       "<tr>\n",
       "  <th>teenage_pregnancy</th>     <td>1.4536</td>   <td>0.8521</td>  <td>1.7058</td>  <td>0.0880</td> <td>-0.2166</td> <td>3.1237</td>\n",
       "</tr>\n",
       "<tr>\n",
       "  <th>prenatal_care</th>         <td>-0.0461</td>    <td>nan</td>     <td>nan</td>     <td>nan</td>    <td>nan</td>     <td>nan</td> \n",
       "</tr>\n",
       "<tr>\n",
       "  <th>parent35</th>              <td>-0.0476</td>  <td>0.2054</td>  <td>-0.2316</td> <td>0.8169</td> <td>-0.4501</td> <td>0.3550</td>\n",
       "</tr>\n",
       "</table><br/>\n"
      ],
      "text/latex": [
       "\\begin{table}\n",
       "\\caption{Results: Logit}\n",
       "\\label{}\n",
       "\\begin{center}\n",
       "\\begin{tabular}{llll}\n",
       "\\hline\n",
       "Model:              & Logit            & Method:           & MLE       \\\\\n",
       "Dependent Variable: & low\\_bwght       & Pseudo R-squared: & 0.040     \\\\\n",
       "Date:               & 2024-04-05 20:07 & AIC:              & 635.6445  \\\\\n",
       "No. Observations:   & 473              & BIC:              & 689.7128  \\\\\n",
       "Df Model:           & 12               & Log-Likelihood:   & -304.82   \\\\\n",
       "Df Residuals:       & 460              & LL-Null:          & -317.42   \\\\\n",
       "Converged:          & 0.0000           & LLR p-value:      & 0.013913  \\\\\n",
       "No. Iterations:     & 35.0000          & Scale:            & 1.0000    \\\\\n",
       "\\hline\n",
       "\\end{tabular}\n",
       "\\end{center}\n",
       "\n",
       "\\begin{center}\n",
       "\\begin{tabular}{lrrrrrr}\n",
       "\\hline\n",
       "                       &    Coef. & Std.Err. &       z & P$> |$z$|$ &  [0.025 & 0.975]  \\\\\n",
       "\\hline\n",
       "Intercept              &   0.3711 &      nan &     nan &         nan &     nan &    nan  \\\\\n",
       "monpre                 &  -0.0394 &      nan &     nan &         nan &     nan &    nan  \\\\\n",
       "npvis                  &  -0.0067 &      nan &     nan &         nan &     nan &    nan  \\\\\n",
       "smokes                 &   0.5155 &   0.7003 &  0.7360 &      0.4617 & -0.8571 & 1.8881  \\\\\n",
       "drinks                 &   1.4076 &   1.2022 &  1.1709 &      0.2416 & -0.9486 & 3.7638  \\\\\n",
       "male                   &  -0.0030 &   0.1979 & -0.0153 &      0.9878 & -0.3910 & 0.3849  \\\\\n",
       "mwhte                  &   7.1643 &      nan &     nan &         nan &     nan &    nan  \\\\\n",
       "mblck                  &   8.2444 &      nan &     nan &         nan &     nan &    nan  \\\\\n",
       "moth                   & -15.0376 &      nan &     nan &         nan &     nan &    nan  \\\\\n",
       "fwhte                  &  -7.2605 &      nan &     nan &         nan &     nan &    nan  \\\\\n",
       "fblck                  &  -8.4353 &      nan &     nan &         nan &     nan &    nan  \\\\\n",
       "foth                   &  16.0670 &      nan &     nan &         nan &     nan &    nan  \\\\\n",
       "Lifestyle\\_Risk\\_Score &  -0.0093 &   0.0479 & -0.1941 &      0.8461 & -0.1031 & 0.0845  \\\\\n",
       "teenage\\_pregnancy     &   1.4536 &   0.8521 &  1.7058 &      0.0880 & -0.2166 & 3.1237  \\\\\n",
       "prenatal\\_care         &  -0.0461 &      nan &     nan &         nan &     nan &    nan  \\\\\n",
       "parent35               &  -0.0476 &   0.2054 & -0.2316 &      0.8169 & -0.4501 & 0.3550  \\\\\n",
       "\\hline\n",
       "\\end{tabular}\n",
       "\\end{center}\n",
       "\\end{table}\n",
       "\\bigskip\n"
      ],
      "text/plain": [
       "<class 'statsmodels.iolib.summary2.Summary'>\n",
       "\"\"\"\n",
       "                           Results: Logit\n",
       "====================================================================\n",
       "Model:                 Logit             Method:            MLE     \n",
       "Dependent Variable:    low_bwght         Pseudo R-squared:  0.040   \n",
       "Date:                  2024-04-05 20:07  AIC:               635.6445\n",
       "No. Observations:      473               BIC:               689.7128\n",
       "Df Model:              12                Log-Likelihood:    -304.82 \n",
       "Df Residuals:          460               LL-Null:           -317.42 \n",
       "Converged:             0.0000            LLR p-value:       0.013913\n",
       "No. Iterations:        35.0000           Scale:             1.0000  \n",
       "--------------------------------------------------------------------\n",
       "                      Coef.   Std.Err.    z    P>|z|   [0.025 0.975]\n",
       "--------------------------------------------------------------------\n",
       "Intercept              0.3711      nan     nan    nan     nan    nan\n",
       "monpre                -0.0394      nan     nan    nan     nan    nan\n",
       "npvis                 -0.0067      nan     nan    nan     nan    nan\n",
       "smokes                 0.5155   0.7003  0.7360 0.4617 -0.8571 1.8881\n",
       "drinks                 1.4076   1.2022  1.1709 0.2416 -0.9486 3.7638\n",
       "male                  -0.0030   0.1979 -0.0153 0.9878 -0.3910 0.3849\n",
       "mwhte                  7.1643      nan     nan    nan     nan    nan\n",
       "mblck                  8.2444      nan     nan    nan     nan    nan\n",
       "moth                 -15.0376      nan     nan    nan     nan    nan\n",
       "fwhte                 -7.2605      nan     nan    nan     nan    nan\n",
       "fblck                 -8.4353      nan     nan    nan     nan    nan\n",
       "foth                  16.0670      nan     nan    nan     nan    nan\n",
       "Lifestyle_Risk_Score  -0.0093   0.0479 -0.1941 0.8461 -0.1031 0.0845\n",
       "teenage_pregnancy      1.4536   0.8521  1.7058 0.0880 -0.2166 3.1237\n",
       "prenatal_care         -0.0461      nan     nan    nan     nan    nan\n",
       "parent35              -0.0476   0.2054 -0.2316 0.8169 -0.4501 0.3550\n",
       "====================================================================\n",
       "\n",
       "\"\"\""
      ]
     },
     "execution_count": 39,
     "metadata": {},
     "output_type": "execute_result"
    }
   ],
   "source": [
    "# instantiating a logistic regression model object\n",
    "logit_sig = smf.logit(formula = \"\"\"low_bwght ~ monpre + npvis +  smokes + \n",
    "                                    drinks + male + mwhte + mblck + moth + \n",
    "                                    fwhte + fblck + foth +Lifestyle_Risk_Score + \n",
    "                                    teenage_pregnancy + prenatal_care + parent35\"\"\",\n",
    "                           data    = df_full)\n",
    "\n",
    "\n",
    "# fitting the model object\n",
    "logit_sig = logit_sig.fit()\n",
    "\n",
    "# checking the results SUMMARY\n",
    "logit_sig.summary2() # summary2() has AIC and BIC\n",
    "\n",
    "# \"\"\"low_bwght ~ mage + meduc + monpre + npvis + fage + feduc + smokes + drinks + male + mwhte + mblck + moth + fwhte + fblck + foth +Lifestyle_Risk_Score + teenage_pregnancy + prenatal_care + parent35\"\"\"\n",
    "# AIC: 637.0908 BIC: 707.7955\n",
    "# \"\"\"low_bwght ~ meduc + monpre + npvis + feduc + smokes + drinks + male + mwhte + mblck + moth + fwhte + fblck + foth +Lifestyle_Risk_Score + teenage_pregnancy + prenatal_care + parent35\"\"\"\n",
    "# AIC: 641.1927 BIC: 707.7383\n",
    "# \"\"\"low_bwght ~ monpre + npvis + smokes + drinks + male + mwhte + mblck + moth + fwhte + fblck + foth +Lifestyle_Risk_Score + teenage_pregnancy + prenatal_care + parent35\"\"\"\n",
    "# AIC: 635.6445 BIC: 689.7128\n",
    "# low_bwght ~ Lifestyle_Risk_Score + teenage_pregnancy + prenatal_care + parent35\n",
    "# AIC: 635.5578 BIC: 656.3533"
   ]
  },
  {
   "cell_type": "code",
   "execution_count": 40,
   "id": "a6c9edd4",
   "metadata": {},
   "outputs": [
    {
     "data": {
      "text/plain": [
       "Index(['mage', 'meduc', 'monpre', 'npvis', 'fage', 'feduc', 'male', 'mwhte', 'mblck', 'moth', 'fwhte', 'fblck', 'foth', 'bwght', 'set', 'low_bwght', 'Lifestyle_Risk_Score', 'teenage_pregnancy', 'prenatal_care', 'smokes', 'drinks', 'parent35'], dtype='object')"
      ]
     },
     "execution_count": 40,
     "metadata": {},
     "output_type": "execute_result"
    }
   ],
   "source": [
    "df_full.columns"
   ]
  },
  {
   "cell_type": "code",
   "execution_count": 41,
   "id": "089188de",
   "metadata": {},
   "outputs": [],
   "source": [
    "x_features   =  df_full[['monpre', 'npvis', \n",
    "                  'male',\n",
    "                 \n",
    "                 'Lifestyle_Risk_Score', 'teenage_pregnancy', \n",
    "                 'prenatal_care','smokes', 'drinks', 'parent35']]\n",
    "y_variable =  df_full['low_bwght']\n",
    "\n",
    "\n",
    "# this is the exact code we were using before\n",
    "x_train, x_test, y_train, y_test = train_test_split(\n",
    "            x_features,\n",
    "            y_variable,\n",
    "            random_state = 702,\n",
    "            test_size    = 0.25,\n",
    "            stratify     = y_variable)\n",
    "\n",
    "# merging training data for statsmodels\n",
    "low_train = pd.concat([x_train, y_train], axis = 1)\n",
    "\n",
    "#x_features   =  df_full[['mage', 'meduc', 'monpre', 'npvis', 'fage', \n",
    " #                'feduc', 'male', 'mwhte', \n",
    " #                'mblck', 'moth', 'fwhte', 'fblck', 'foth', \n",
    " #                'Lifestyle_Risk_Score', 'teenage_pregnancy', \n",
    " #                'prenatal_care','smokes', 'drinks', 'parent35']]"
   ]
  },
  {
   "cell_type": "code",
   "execution_count": 42,
   "id": "36acfe5a",
   "metadata": {},
   "outputs": [
    {
     "name": "stdout",
     "output_type": "stream",
     "text": [
      "\n",
      "\n",
      "Response Variable Proportions (Training Set)\n",
      "--------------------------------------------\n",
      "low_bwght\n",
      "0    0.6\n",
      "1    0.4\n",
      "Name: proportion, dtype: float64\n",
      "\n",
      "\n",
      "\n",
      "Response Variable Proportions (Testing Set)\n",
      "--------------------------------------------\n",
      "low_bwght\n",
      "0    0.61\n",
      "1    0.39\n",
      "Name: proportion, dtype: float64\n",
      "\n"
     ]
    }
   ],
   "source": [
    "print(f\"\"\"\n",
    "\n",
    "Response Variable Proportions (Training Set)\n",
    "--------------------------------------------\n",
    "{y_train.value_counts(normalize = True).round(decimals = 2)}\n",
    "\n",
    "\n",
    "\n",
    "Response Variable Proportions (Testing Set)\n",
    "--------------------------------------------\n",
    "{y_test.value_counts(normalize = True).round(decimals = 2)}\n",
    "\"\"\")\n",
    "\n"
   ]
  },
  {
   "cell_type": "code",
   "execution_count": 43,
   "id": "70448b28",
   "metadata": {},
   "outputs": [],
   "source": [
    "#logit_ful= ['npvis',   'cigs', 'drink', 'Lifestyle_Risk_Score']"
   ]
  },
  {
   "cell_type": "code",
   "execution_count": null,
   "id": "7d39d19c",
   "metadata": {},
   "outputs": [],
   "source": []
  },
  {
   "cell_type": "markdown",
   "id": "b020402d",
   "metadata": {},
   "source": [
    "<h2> Modeling </h2>"
   ]
  },
  {
   "cell_type": "markdown",
   "id": "aab5b2d7",
   "metadata": {},
   "source": [
    "<h3> Logistic Regression </h3>"
   ]
  },
  {
   "cell_type": "code",
   "execution_count": 44,
   "id": "fd3a605e",
   "metadata": {},
   "outputs": [
    {
     "name": "stdout",
     "output_type": "stream",
     "text": [
      "Training ACCURACY: 0.6102\n",
      "Testing  ACCURACY: 0.6134\n",
      "Train-Test Gap   : 0.0032\n",
      "\n"
     ]
    }
   ],
   "source": [
    "# INSTANTIATING a logistic regression model\n",
    "model = sklearn.linear_model.LogisticRegression(solver = 'lbfgs',\n",
    "                                                 C = 1,\n",
    "                                                 random_state = 702)\n",
    "\n",
    "\n",
    "# FITTING the training data\n",
    "logreg_fit = model.fit(x_train, y_train)\n",
    "\n",
    "\n",
    "# PREDICTING based on the testing set\n",
    "logreg_pred = logreg_fit.predict(x_test)\n",
    "\n",
    "# saving scoring data for future use\n",
    "train_score = round(logreg_fit.score(x_train, y_train), ndigits = 4) # train accuracy\n",
    "test_score  = round(logreg_fit.score(x_test, y_test),   ndigits = 4) # test accuracy\n",
    "tt_gap      = round(abs(train_score - test_score),      ndigits = 4) # gap\n",
    "\n",
    "# displaying and saving the gap between training and testing\n",
    "print(f\"\"\"\\\n",
    "Training ACCURACY: {train_score}\n",
    "Testing  ACCURACY: {test_score}\n",
    "Train-Test Gap   : {tt_gap}\n",
    "\"\"\") "
   ]
  },
  {
   "cell_type": "code",
   "execution_count": 45,
   "id": "5d02a2b6",
   "metadata": {},
   "outputs": [
    {
     "name": "stdout",
     "output_type": "stream",
     "text": [
      "\n",
      "True Negatives : 69\n",
      "False Positives: 3\n",
      "False Negatives: 43\n",
      "True Positives : 4\n",
      "\n"
     ]
    }
   ],
   "source": [
    "# unpacking the confusion matrix\n",
    "logreg_tn, \\\n",
    "logreg_fp, \\\n",
    "logreg_fn, \\\n",
    "logreg_tp = confusion_matrix(y_true = y_test, y_pred = logreg_pred).ravel()\n",
    "\n",
    "\n",
    "# printing each result one-by-one\n",
    "print(f\"\"\"\n",
    "True Negatives : {logreg_tn}\n",
    "False Positives: {logreg_fp}\n",
    "False Negatives: {logreg_fn}\n",
    "True Positives : {logreg_tp}\n",
    "\"\"\")"
   ]
  },
  {
   "cell_type": "code",
   "execution_count": 46,
   "id": "553e1cc7",
   "metadata": {},
   "outputs": [
    {
     "name": "stdout",
     "output_type": "stream",
     "text": [
      "AUC:       0.5217\n",
      "Precision: 0.5714\n",
      "Recall:    0.0851\n",
      "\n"
     ]
    }
   ],
   "source": [
    "# preparing AUC, precision, and recall\n",
    "auc       = round(roc_auc_score(y_true = y_test, y_score = logreg_pred) , ndigits = 4)\n",
    "precision = round(precision_score(y_true = y_test, y_pred = logreg_pred), ndigits = 4)\n",
    "recall    = round(recall_score(y_true = y_test, y_pred = logreg_pred)   , ndigits = 4)\n",
    "\n",
    "\n",
    "# dynamically printing metrics\n",
    "print(f\"\"\"\\\n",
    "AUC:       {auc}\n",
    "Precision: {precision}\n",
    "Recall:    {recall}\n",
    "\"\"\")"
   ]
  },
  {
   "cell_type": "code",
   "execution_count": 47,
   "id": "4957615d",
   "metadata": {},
   "outputs": [
    {
     "data": {
      "text/html": [
       "<div>\n",
       "<style scoped>\n",
       "    .dataframe tbody tr th:only-of-type {\n",
       "        vertical-align: middle;\n",
       "    }\n",
       "\n",
       "    .dataframe tbody tr th {\n",
       "        vertical-align: top;\n",
       "    }\n",
       "\n",
       "    .dataframe thead th {\n",
       "        text-align: right;\n",
       "    }\n",
       "</style>\n",
       "<table border=\"1\" class=\"dataframe\">\n",
       "  <thead>\n",
       "    <tr style=\"text-align: right;\">\n",
       "      <th></th>\n",
       "      <th>Class 0</th>\n",
       "      <th>Class 1</th>\n",
       "    </tr>\n",
       "  </thead>\n",
       "  <tbody>\n",
       "    <tr>\n",
       "      <th>0</th>\n",
       "      <td>0.63</td>\n",
       "      <td>0.37</td>\n",
       "    </tr>\n",
       "    <tr>\n",
       "      <th>1</th>\n",
       "      <td>0.60</td>\n",
       "      <td>0.40</td>\n",
       "    </tr>\n",
       "    <tr>\n",
       "      <th>2</th>\n",
       "      <td>0.60</td>\n",
       "      <td>0.40</td>\n",
       "    </tr>\n",
       "    <tr>\n",
       "      <th>3</th>\n",
       "      <td>0.69</td>\n",
       "      <td>0.31</td>\n",
       "    </tr>\n",
       "    <tr>\n",
       "      <th>4</th>\n",
       "      <td>0.59</td>\n",
       "      <td>0.41</td>\n",
       "    </tr>\n",
       "  </tbody>\n",
       "</table>\n",
       "</div>"
      ],
      "text/plain": [
       "   Class 0  Class 1\n",
       "0     0.63     0.37\n",
       "1     0.60     0.40\n",
       "2     0.60     0.40\n",
       "3     0.69     0.31\n",
       "4     0.59     0.41"
      ]
     },
     "execution_count": 47,
     "metadata": {},
     "output_type": "execute_result"
    }
   ],
   "source": [
    "# printing the predicted probabilities of 0 and 1, respectively\n",
    "pd.DataFrame(data = logreg_fit.predict_proba(x_features).round(decimals = 2),\n",
    "             columns = ['Class 0', 'Class 1']).head(n = 5)"
   ]
  },
  {
   "cell_type": "code",
   "execution_count": 48,
   "id": "b8d4f251",
   "metadata": {},
   "outputs": [
    {
     "data": {
      "text/html": [
       "<div>\n",
       "<style scoped>\n",
       "    .dataframe tbody tr th:only-of-type {\n",
       "        vertical-align: middle;\n",
       "    }\n",
       "\n",
       "    .dataframe tbody tr th {\n",
       "        vertical-align: top;\n",
       "    }\n",
       "\n",
       "    .dataframe thead th {\n",
       "        text-align: right;\n",
       "    }\n",
       "</style>\n",
       "<table border=\"1\" class=\"dataframe\">\n",
       "  <thead>\n",
       "    <tr style=\"text-align: right;\">\n",
       "      <th></th>\n",
       "      <th>Predicted Class</th>\n",
       "    </tr>\n",
       "  </thead>\n",
       "  <tbody>\n",
       "    <tr>\n",
       "      <th>0</th>\n",
       "      <td>0</td>\n",
       "    </tr>\n",
       "    <tr>\n",
       "      <th>1</th>\n",
       "      <td>0</td>\n",
       "    </tr>\n",
       "    <tr>\n",
       "      <th>2</th>\n",
       "      <td>0</td>\n",
       "    </tr>\n",
       "    <tr>\n",
       "      <th>3</th>\n",
       "      <td>0</td>\n",
       "    </tr>\n",
       "    <tr>\n",
       "      <th>4</th>\n",
       "      <td>0</td>\n",
       "    </tr>\n",
       "  </tbody>\n",
       "</table>\n",
       "</div>"
      ],
      "text/plain": [
       "   Predicted Class\n",
       "0                0\n",
       "1                0\n",
       "2                0\n",
       "3                0\n",
       "4                0"
      ]
     },
     "execution_count": 48,
     "metadata": {},
     "output_type": "execute_result"
    }
   ],
   "source": [
    "# printing actual predictions (0 or 1)\n",
    "pd.DataFrame(data    = logreg_fit.predict(x_features),\n",
    "             columns = ['Predicted Class']).head(n = 5)"
   ]
  },
  {
   "cell_type": "markdown",
   "id": "1d0f4274",
   "metadata": {},
   "source": [
    "    "
   ]
  },
  {
   "cell_type": "markdown",
   "id": "49d0d0e5",
   "metadata": {},
   "source": [
    "<h3> Random Forest </h3>"
   ]
  },
  {
   "cell_type": "code",
   "execution_count": 49,
   "id": "398610ae",
   "metadata": {},
   "outputs": [],
   "source": [
    "# INSTANTIATING a random forest model with default hyperparameters\n",
    "rf_default = RandomForestClassifier(n_estimators     = 100,\n",
    "                                    criterion        = 'gini',\n",
    "                                    max_depth        = None,\n",
    "                                    min_samples_leaf = 1,\n",
    "                                    bootstrap        = True,\n",
    "                                    warm_start       = False,\n",
    "                                    random_state     = 702)"
   ]
  },
  {
   "cell_type": "code",
   "execution_count": 50,
   "id": "40e1730b",
   "metadata": {},
   "outputs": [
    {
     "name": "stdout",
     "output_type": "stream",
     "text": [
      "Training ACCURACY: 0.8136\n",
      "Testing  ACCURACY: 0.521\n",
      "AUC Score        : 0.4749\n"
     ]
    }
   ],
   "source": [
    "# FITTING the training data\n",
    "rf_default_fit = rf_default.fit(x_train, y_train)\n",
    "\n",
    "\n",
    "# PREDICTING based on the testing set\n",
    "rf_default_fit_pred = rf_default_fit.predict(x_test)\n",
    "\n",
    "\n",
    "# SCORING the results\n",
    "print('Training ACCURACY:', round(rf_default_fit.score(x_train, y_train), ndigits = 4))\n",
    "print('Testing  ACCURACY:', round(rf_default_fit.score(x_test , y_test ), ndigits = 4))\n",
    "\n",
    "\n",
    "# saving AUC score\n",
    "print('AUC Score        :', round(roc_auc_score(y_true  = y_test,\n",
    "                                                y_score = rf_default_fit_pred), ndigits = 4))"
   ]
  },
  {
   "cell_type": "code",
   "execution_count": 51,
   "id": "8846a405",
   "metadata": {},
   "outputs": [
    {
     "name": "stdout",
     "output_type": "stream",
     "text": [
      "\n",
      "True Negatives : 50\n",
      "False Positives: 22\n",
      "False Negatives: 35\n",
      "True Positives : 12\n",
      "\n"
     ]
    }
   ],
   "source": [
    "# unpacking the confusion matrix\n",
    "rf_tn, \\\n",
    "rf_fp, \\\n",
    "rf_fn, \\\n",
    "rf_tp = confusion_matrix(y_true = y_test, y_pred = rf_default_fit_pred).ravel()\n",
    "\n",
    "\n",
    "# printing each result one-by-one\n",
    "print(f\"\"\"\n",
    "True Negatives : {rf_tn}\n",
    "False Positives: {rf_fp}\n",
    "False Negatives: {rf_fn}\n",
    "True Positives : {rf_tp}\n",
    "\"\"\")"
   ]
  },
  {
   "cell_type": "code",
   "execution_count": 52,
   "id": "e937c0de",
   "metadata": {},
   "outputs": [
    {
     "data": {
      "text/html": [
       "<div>\n",
       "<style scoped>\n",
       "    .dataframe tbody tr th:only-of-type {\n",
       "        vertical-align: middle;\n",
       "    }\n",
       "\n",
       "    .dataframe tbody tr th {\n",
       "        vertical-align: top;\n",
       "    }\n",
       "\n",
       "    .dataframe thead th {\n",
       "        text-align: right;\n",
       "    }\n",
       "</style>\n",
       "<table border=\"1\" class=\"dataframe\">\n",
       "  <thead>\n",
       "    <tr style=\"text-align: right;\">\n",
       "      <th></th>\n",
       "      <th>Model Name</th>\n",
       "      <th>Training Accuracy</th>\n",
       "      <th>Testing Accuracy</th>\n",
       "      <th>AUC Score</th>\n",
       "      <th>Confusion Matrix</th>\n",
       "    </tr>\n",
       "  </thead>\n",
       "  <tbody>\n",
       "    <tr>\n",
       "      <th>0</th>\n",
       "      <td>Full Random Forest</td>\n",
       "      <td>0.8136</td>\n",
       "      <td>0.521</td>\n",
       "      <td>0.4749</td>\n",
       "      <td>(50, 22, 35, 12)</td>\n",
       "    </tr>\n",
       "  </tbody>\n",
       "</table>\n",
       "</div>"
      ],
      "text/plain": [
       "           Model Name  Training Accuracy  Testing Accuracy  AUC Score  Confusion Matrix\n",
       "0  Full Random Forest             0.8136             0.521     0.4749  (50, 22, 35, 12)"
      ]
     },
     "execution_count": 52,
     "metadata": {},
     "output_type": "execute_result"
    }
   ],
   "source": [
    "# instantiating model performance objects\n",
    "rf_train_acc = round(rf_default_fit.score(x_train, y_train), ndigits = 4)\n",
    "rf_test_acc  = round(rf_default_fit.score(x_test, y_test)  , ndigits = 4)\n",
    "rf_auc       = round(roc_auc_score(y_true  = y_test,\n",
    "                                   y_score = rf_default_fit_pred), ndigits = 4)\n",
    "\n",
    "conf_mtrx    = tuple([rf_tn, rf_fp, rf_fn, rf_tp])\n",
    "\n",
    "model_performance = pd.DataFrame()\n",
    "\n",
    "model_df = pd.DataFrame(data = {'Model Name'         : 'Full Random Forest',\n",
    "                                'Training Accuracy'  : rf_train_acc,\n",
    "                                'Testing Accuracy'   : rf_test_acc,\n",
    "                                'AUC Score'          : rf_auc,\n",
    "                                'Confusion Matrix'   : str(conf_mtrx)},\n",
    "                        index = [0])\n",
    "\n",
    "\n",
    "\n",
    "\n",
    "model_performance = pd.concat(objs         = [model_performance, model_df],\n",
    "                              axis         = 0,\n",
    "                              ignore_index = True)\n",
    "\n",
    "# checking the results\n",
    "model_performance"
   ]
  },
  {
   "cell_type": "code",
   "execution_count": 53,
   "id": "ef8e311d",
   "metadata": {},
   "outputs": [
    {
     "name": "stdout",
     "output_type": "stream",
     "text": [
      "Tuned Parameters  : {'warm_start': True, 'n_estimators': 100, 'min_samples_leaf': 2, 'max_depth': 8, 'criterion': 'entropy', 'bootstrap': False}\n",
      "Tuned Training AUC: 0.5385\n"
     ]
    }
   ],
   "source": [
    "# instantiating a hyperparameter space\n",
    "estimator_range  = np.arange(50, 150, 25)\n",
    "leaf_range       = np.arange(1, 6, 1)\n",
    "criterion_range  = ['gini', 'entropy']\n",
    "bootstrap_range  = [True, False]\n",
    "warm_start_range = [True, False]\n",
    "max_depth        = np.arange(1, 10, 1)\n",
    "\n",
    "\n",
    "# creating a hyperparameter grid\n",
    "param_grid = {'n_estimators'     : estimator_range,\n",
    "              'min_samples_leaf' : leaf_range,\n",
    "              'criterion'        : criterion_range,\n",
    "              'bootstrap'        : bootstrap_range,\n",
    "              'warm_start'       : warm_start_range,\n",
    "              'max_depth'        : max_depth}\n",
    "\n",
    "\n",
    "# INSTANTIATING the model object without hyperparameters\n",
    "forest_grid = RandomForestClassifier(random_state = 702)\n",
    "\n",
    "\n",
    "# GridSearchCV object\n",
    "forest_cv = RandomizedSearchCV(estimator           = forest_grid,\n",
    "                               param_distributions = param_grid,\n",
    "                               cv         = 5,\n",
    "                               n_iter     = 10,\n",
    "                               scoring    = make_scorer(roc_auc_score,\n",
    "                                            needs_threshold = False))\n",
    "\n",
    "\n",
    "# FITTING to the FULL DATASET (due to cross-validation)\n",
    "forest_cv.fit(x_features, y_variable)\n",
    "\n",
    "\n",
    "# PREDICT step is not needed\n",
    "\n",
    "\n",
    "# printing the optimal parameters and best score\n",
    "print(\"Tuned Parameters  :\", forest_cv.best_params_)\n",
    "print(\"Tuned Training AUC:\", forest_cv.best_score_.round(decimals = 4))"
   ]
  },
  {
   "cell_type": "code",
   "execution_count": 54,
   "id": "74e568ea",
   "metadata": {},
   "outputs": [
    {
     "name": "stdout",
     "output_type": "stream",
     "text": [
      "Forest Tuned Training ACCURACY: 0.7373\n",
      "Forest Tuned Testing  ACCURACY: 0.7647\n",
      "Forest Tuned AUC Score        : 0.728\n"
     ]
    }
   ],
   "source": [
    "# building a model based on hyperparameter tuning results\n",
    "\n",
    "# INSTANTIATING with best_estimator\n",
    "forest_tuned = RandomForestClassifier(criterion        = 'gini',\n",
    "                                      min_samples_leaf = 3,\n",
    "                                      n_estimators     = 50,\n",
    "                                      warm_start       = False,\n",
    "                                      bootstrap        = False,\n",
    "                                      random_state     = 702)\n",
    "\n",
    "\n",
    "# FITTING to the FULL DATASET (due to cross-validation)\n",
    "forest_tuned_fit = forest_tuned.fit(x_features, y_variable)\n",
    "\n",
    "\n",
    "# PREDICTING on the testing set\n",
    "forest_tuned_pred = forest_tuned_fit.predict(x_test)\n",
    "\n",
    "\n",
    "# saving scoring data for future use\n",
    "forest_tuned_train_score = round(forest_tuned.score(x_train, y_train),\n",
    "                                 ndigits = 4)\n",
    "\n",
    "forest_tuned_test_score  = round(forest_tuned.score(x_test , y_test ),\n",
    "                                 ndigits = 4)\n",
    "\n",
    "\n",
    "# saving the AUC score\n",
    "forest_tuned_auc = round(roc_auc_score(y_true  = y_test,\n",
    "                                 y_score = forest_tuned_pred), ndigits = 4)\n",
    "\n",
    "\n",
    "# SCORING the results\n",
    "print('Forest Tuned Training ACCURACY:', forest_tuned_train_score)\n",
    "print('Forest Tuned Testing  ACCURACY:', forest_tuned_test_score)\n",
    "print('Forest Tuned AUC Score        :', forest_tuned_auc)"
   ]
  },
  {
   "cell_type": "code",
   "execution_count": 55,
   "id": "4b818438",
   "metadata": {},
   "outputs": [
    {
     "name": "stdout",
     "output_type": "stream",
     "text": [
      "\n",
      "True Negatives : 65\n",
      "False Positives: 7\n",
      "False Negatives: 21\n",
      "True Positives : 26\n",
      "\n"
     ]
    }
   ],
   "source": [
    "# unpacking the confusion matrix\n",
    "tuned_rf_tn, \\\n",
    "tuned_rf_fp, \\\n",
    "tuned_rf_fn, \\\n",
    "tuned_rf_tp = confusion_matrix(y_true = y_test,\n",
    "                               y_pred = forest_tuned_pred).ravel()\n",
    "\n",
    "\n",
    "# printing each result one-by-one\n",
    "print(f\"\"\"\n",
    "True Negatives : {tuned_rf_tn}\n",
    "False Positives: {tuned_rf_fp}\n",
    "False Negatives: {tuned_rf_fn}\n",
    "True Positives : {tuned_rf_tp}\n",
    "\"\"\")"
   ]
  },
  {
   "cell_type": "code",
   "execution_count": 56,
   "id": "7bde0e46",
   "metadata": {},
   "outputs": [
    {
     "data": {
      "text/html": [
       "<div>\n",
       "<style scoped>\n",
       "    .dataframe tbody tr th:only-of-type {\n",
       "        vertical-align: middle;\n",
       "    }\n",
       "\n",
       "    .dataframe tbody tr th {\n",
       "        vertical-align: top;\n",
       "    }\n",
       "\n",
       "    .dataframe thead th {\n",
       "        text-align: right;\n",
       "    }\n",
       "</style>\n",
       "<table border=\"1\" class=\"dataframe\">\n",
       "  <thead>\n",
       "    <tr style=\"text-align: right;\">\n",
       "      <th></th>\n",
       "      <th>Model Name</th>\n",
       "      <th>Training Accuracy</th>\n",
       "      <th>Testing Accuracy</th>\n",
       "      <th>AUC Score</th>\n",
       "      <th>Confusion Matrix</th>\n",
       "    </tr>\n",
       "  </thead>\n",
       "  <tbody>\n",
       "    <tr>\n",
       "      <th>0</th>\n",
       "      <td>Full Random Forest</td>\n",
       "      <td>0.8136</td>\n",
       "      <td>0.5210</td>\n",
       "      <td>0.4749</td>\n",
       "      <td>(50, 22, 35, 12)</td>\n",
       "    </tr>\n",
       "    <tr>\n",
       "      <th>1</th>\n",
       "      <td>Tuned Random Forest</td>\n",
       "      <td>0.7373</td>\n",
       "      <td>0.7647</td>\n",
       "      <td>0.7280</td>\n",
       "      <td>(65, 7, 21, 26)</td>\n",
       "    </tr>\n",
       "  </tbody>\n",
       "</table>\n",
       "</div>"
      ],
      "text/plain": [
       "            Model Name  Training Accuracy  Testing Accuracy  AUC Score  Confusion Matrix\n",
       "0   Full Random Forest             0.8136            0.5210     0.4749  (50, 22, 35, 12)\n",
       "1  Tuned Random Forest             0.7373            0.7647     0.7280   (65, 7, 21, 26)"
      ]
     },
     "execution_count": 56,
     "metadata": {},
     "output_type": "execute_result"
    }
   ],
   "source": [
    "# instantiating model performance objects\n",
    "tuned_rf_train_acc = round(forest_tuned_fit.score(x_train, y_train),\n",
    "                           ndigits = 4)\n",
    "\n",
    "tuned_rf_test_acc  = round(forest_tuned_fit.score(x_test, y_test),\n",
    "                           ndigits = 4)\n",
    "\n",
    "tuned_rf_auc       = round(roc_auc_score(y_true  = y_test,\n",
    "                                         y_score = forest_tuned_pred),\n",
    "                           ndigits = 4)\n",
    "\n",
    "\n",
    "conf_mtrx    = tuple([tuned_rf_tn, tuned_rf_fp,\n",
    "                      tuned_rf_fn, tuned_rf_tp])\n",
    "\n",
    "\n",
    "\n",
    "# appending to model_performance\n",
    "model_df = pd.DataFrame(data = {'Model Name'         : 'Tuned Random Forest',\n",
    "                                'Training Accuracy'  : tuned_rf_train_acc,\n",
    "                                'Testing Accuracy'   : tuned_rf_test_acc,\n",
    "                                'AUC Score'          : tuned_rf_auc,\n",
    "                                'Confusion Matrix'   : str(conf_mtrx)},\n",
    "                        index = [0])\n",
    "\n",
    "\n",
    "\n",
    "model_performance = pd.concat(objs         = [model_performance, model_df],\n",
    "                              axis         = 0,\n",
    "                              ignore_index = True)\n",
    "\n",
    "\n",
    "# checking results\n",
    "model_performance"
   ]
  },
  {
   "cell_type": "markdown",
   "id": "4a2875c8",
   "metadata": {},
   "source": [
    "   "
   ]
  },
  {
   "cell_type": "markdown",
   "id": "ae8f9a67",
   "metadata": {},
   "source": [
    "<h3> Gradient Boosted Machines </h3>"
   ]
  },
  {
   "cell_type": "code",
   "execution_count": 57,
   "id": "bc2f2f0a",
   "metadata": {},
   "outputs": [
    {
     "name": "stdout",
     "output_type": "stream",
     "text": [
      "Training ACCURACY: 0.7429\n",
      "Testing ACCURACY : 0.5462\n",
      "AUC Score        : 0.492\n"
     ]
    }
   ],
   "source": [
    "# INSTANTIATING the model object without hyperparameters\n",
    "full_gbm_def = GradientBoostingClassifier(loss          = 'log_loss',\n",
    "                                          learning_rate = 0.1,\n",
    "                                          n_estimators  = 100,\n",
    "                                          criterion     = 'friedman_mse',\n",
    "                                          max_depth     = 3,\n",
    "                                          warm_start    = False,\n",
    "                                          random_state  = 702)\n",
    "\n",
    "\n",
    "# FITTING to the training data\n",
    "full_gbm_def_fit = full_gbm_def.fit(x_train, y_train)\n",
    "\n",
    "\n",
    "# PREDICTING based on the testing set\n",
    "full_gbm_def_pred = full_gbm_def_fit.predict(x_test)\n",
    "\n",
    "\n",
    "# SCORING the results\n",
    "print('Training ACCURACY:', round(full_gbm_def_fit.score(x_train, y_train),\n",
    "                                  ndigits = 4))\n",
    "      \n",
    "print('Testing ACCURACY :', round(full_gbm_def_fit.score(x_test, y_test),\n",
    "                                  ndigits = 4))\n",
    "      \n",
    "print('AUC Score        :', round(roc_auc_score(y_true  = y_test,\n",
    "                                                y_score = full_gbm_def_pred),\n",
    "                                  ndigits = 4))"
   ]
  },
  {
   "cell_type": "code",
   "execution_count": 58,
   "id": "f77484b2",
   "metadata": {},
   "outputs": [
    {
     "name": "stdout",
     "output_type": "stream",
     "text": [
      "[[54 18]\n",
      " [36 11]]\n"
     ]
    }
   ],
   "source": [
    "# Calculate confusion matrix\n",
    "conf_matrix = confusion_matrix(y_test, full_gbm_def_pred)\n",
    "\n",
    "# Print the confusion matrix\n",
    "print(conf_matrix)"
   ]
  },
  {
   "cell_type": "code",
   "execution_count": 59,
   "id": "de799faa",
   "metadata": {},
   "outputs": [],
   "source": [
    "gbm_def_tn, gbm_def_fp, gbm_def_fn, gbm_def_tp = conf_matrix.ravel()\n",
    "\n",
    "# Now that you have these variables defined, you can proceed with creating your tuple:\n",
    "conf_mtrx = (gbm_def_tn, gbm_def_fp, gbm_def_fn, gbm_def_tp)\n"
   ]
  },
  {
   "cell_type": "code",
   "execution_count": 60,
   "id": "3c51b668",
   "metadata": {},
   "outputs": [
    {
     "data": {
      "text/html": [
       "<div>\n",
       "<style scoped>\n",
       "    .dataframe tbody tr th:only-of-type {\n",
       "        vertical-align: middle;\n",
       "    }\n",
       "\n",
       "    .dataframe tbody tr th {\n",
       "        vertical-align: top;\n",
       "    }\n",
       "\n",
       "    .dataframe thead th {\n",
       "        text-align: right;\n",
       "    }\n",
       "</style>\n",
       "<table border=\"1\" class=\"dataframe\">\n",
       "  <thead>\n",
       "    <tr style=\"text-align: right;\">\n",
       "      <th></th>\n",
       "      <th>Model Name</th>\n",
       "      <th>Training Accuracy</th>\n",
       "      <th>Testing Accuracy</th>\n",
       "      <th>AUC Score</th>\n",
       "      <th>Confusion Matrix</th>\n",
       "    </tr>\n",
       "  </thead>\n",
       "  <tbody>\n",
       "    <tr>\n",
       "      <th>0</th>\n",
       "      <td>Full Random Forest</td>\n",
       "      <td>0.8136</td>\n",
       "      <td>0.5210</td>\n",
       "      <td>0.4749</td>\n",
       "      <td>(50, 22, 35, 12)</td>\n",
       "    </tr>\n",
       "    <tr>\n",
       "      <th>1</th>\n",
       "      <td>Tuned Random Forest</td>\n",
       "      <td>0.7373</td>\n",
       "      <td>0.7647</td>\n",
       "      <td>0.7280</td>\n",
       "      <td>(65, 7, 21, 26)</td>\n",
       "    </tr>\n",
       "    <tr>\n",
       "      <th>2</th>\n",
       "      <td>Full GBM</td>\n",
       "      <td>0.7429</td>\n",
       "      <td>0.5462</td>\n",
       "      <td>0.4920</td>\n",
       "      <td>(54, 18, 36, 11)</td>\n",
       "    </tr>\n",
       "  </tbody>\n",
       "</table>\n",
       "</div>"
      ],
      "text/plain": [
       "            Model Name  Training Accuracy  Testing Accuracy  AUC Score  Confusion Matrix\n",
       "0   Full Random Forest             0.8136            0.5210     0.4749  (50, 22, 35, 12)\n",
       "1  Tuned Random Forest             0.7373            0.7647     0.7280   (65, 7, 21, 26)\n",
       "2             Full GBM             0.7429            0.5462     0.4920  (54, 18, 36, 11)"
      ]
     },
     "execution_count": 60,
     "metadata": {},
     "output_type": "execute_result"
    }
   ],
   "source": [
    "## instantiating model performance objects ##\n",
    "\n",
    "# training accuracy\n",
    "gbm_train_acc = round(full_gbm_def_fit.score(x_train, y_train),\n",
    "                      ndigits = 4)\n",
    "\n",
    "\n",
    "# testing accuracy\n",
    "gbm_test_acc  = round(full_gbm_def_fit.score(x_test, y_test),\n",
    "                      ndigits = 4)\n",
    "\n",
    "\n",
    "# auc score\n",
    "gbm_auc       = round(roc_auc_score(y_true  = y_test,\n",
    "                                    y_score = full_gbm_def_pred),\n",
    "                      ndigits = 4)\n",
    "\n",
    "\n",
    "# confusion matrix\n",
    "conf_mtrx    = tuple([gbm_def_tn, gbm_def_fp,\n",
    "                      gbm_def_fn, gbm_def_tp])\n",
    "\n",
    "\n",
    "# appending to model_performance\n",
    "model_df = pd.DataFrame(data = {'Model Name'         : 'Full GBM',\n",
    "                                'Training Accuracy'  : gbm_train_acc,\n",
    "                                'Testing Accuracy'   : gbm_test_acc,\n",
    "                                'AUC Score'          : gbm_auc,\n",
    "                                'Confusion Matrix'   : str(conf_mtrx)},\n",
    "                        index = [0])\n",
    "\n",
    "\n",
    "\n",
    "model_performance = pd.concat(objs         = [model_performance, model_df],\n",
    "                              axis         = 0,\n",
    "                              ignore_index = True)\n",
    "\n",
    "\n",
    "# checking results\n",
    "model_performance"
   ]
  },
  {
   "cell_type": "code",
   "execution_count": 61,
   "id": "5d3dd2d0",
   "metadata": {},
   "outputs": [
    {
     "name": "stdout",
     "output_type": "stream",
     "text": [
      "Tuned Parameters  : {'warm_start': True, 'n_estimators': 300, 'max_depth': 3, 'learning_rate': 1.1}\n",
      "Tuned Training AUC: 0.5433\n"
     ]
    }
   ],
   "source": [
    "# instantiating a hyperparameter space\n",
    "learn_range        = np.arange(0.1, 2.2, 0.5)\n",
    "estimator_range    = np.arange(50, 301, 50)\n",
    "depth_range        = np.arange(2, 7, 1)\n",
    "warm_start_range   = [True, False]\n",
    "\n",
    "# creating a hyperparameter grid\n",
    "param_grid = {'learning_rate' : learn_range,\n",
    "              'max_depth'     : depth_range,\n",
    "              'n_estimators'  : estimator_range,\n",
    "              'warm_start'    : warm_start_range}\n",
    "\n",
    "\n",
    "# INSTANTIATING the model object without hyperparameters\n",
    "full_gbm_grid = GradientBoostingClassifier(random_state = 702)\n",
    "\n",
    "\n",
    "# GridSearchCV object\n",
    "full_gbm_cv = RandomizedSearchCV(estimator     = full_gbm_grid,\n",
    "                           param_distributions = param_grid,\n",
    "                           cv                  = 3,\n",
    "                           n_iter              = 10,\n",
    "                           random_state        = 702,\n",
    "                           scoring             = make_scorer(roc_auc_score,\n",
    "                                                 needs_threshold = False))\n",
    "\n",
    "\n",
    "# FITTING to the FULL DATASET (due to cross-validation)\n",
    "full_gbm_cv.fit(x_features, y_variable)\n",
    "\n",
    "\n",
    "# PREDICT step is not needed\n",
    "\n",
    "\n",
    "# printing the optimal parameters and best score\n",
    "print(\"Tuned Parameters  :\", full_gbm_cv.best_params_)\n",
    "print(\"Tuned Training AUC:\", full_gbm_cv.best_score_.round(4))"
   ]
  },
  {
   "cell_type": "code",
   "execution_count": 62,
   "id": "e770c043",
   "metadata": {},
   "outputs": [
    {
     "name": "stdout",
     "output_type": "stream",
     "text": [
      "Training ACCURACY: 0.7853\n",
      "Testing  ACCURACY: 0.7563\n",
      "AUC Score        : 0.7247\n"
     ]
    }
   ],
   "source": [
    "# INSTANTIATING with best_estimator\n",
    "gbm_tuned = GradientBoostingClassifier(learning_rate = 1.1,\n",
    "                                       max_depth     = 3,\n",
    "                                       n_estimators  = 300,\n",
    "                                       warm_start    = True,\n",
    "                                       random_state  = 702)\n",
    "\n",
    "\n",
    "# FITTING to the FULL DATASET (due to cross-validation)\n",
    "gbm_tuned_fit = gbm_tuned.fit(x_features, y_variable)\n",
    "\n",
    "\n",
    "# PREDICTING based on the testing set\n",
    "gbm_tuned_pred = gbm_tuned_fit.predict(x_test)\n",
    "\n",
    "\n",
    "# SCORING the results\n",
    "print('Training ACCURACY:', round(gbm_tuned_fit.score(x_train, y_train),\n",
    "                                  ndigits = 4))\n",
    "\n",
    "\n",
    "print('Testing  ACCURACY:', round(gbm_tuned_fit.score(x_test, y_test),\n",
    "                                  ndigits = 4))\n",
    "\n",
    "\n",
    "print('AUC Score        :', round(roc_auc_score(y_true  = y_test,\n",
    "                                                y_score = gbm_tuned_pred),\n",
    "                                  ndigits = 4))\n"
   ]
  },
  {
   "cell_type": "code",
   "execution_count": 63,
   "id": "6475e4b4",
   "metadata": {},
   "outputs": [
    {
     "name": "stdout",
     "output_type": "stream",
     "text": [
      "\n",
      "True Negatives : 63\n",
      "False Positives: 9\n",
      "False Negatives: 20\n",
      "True Positives : 27\n",
      "\n"
     ]
    }
   ],
   "source": [
    "# unpacking the confusion matrix\n",
    "gbm_tuned_tn, \\\n",
    "gbm_tuned_fp, \\\n",
    "gbm_tuned_fn, \\\n",
    "gbm_tuned_tp = confusion_matrix(y_true = y_test, y_pred = gbm_tuned_pred).ravel()\n",
    "\n",
    "\n",
    "# printing each result one-by-one\n",
    "print(f\"\"\"\n",
    "True Negatives : {gbm_tuned_tn}\n",
    "False Positives: {gbm_tuned_fp}\n",
    "False Negatives: {gbm_tuned_fn}\n",
    "True Positives : {gbm_tuned_tp}\n",
    "\"\"\")"
   ]
  },
  {
   "cell_type": "code",
   "execution_count": 64,
   "id": "5713ce18",
   "metadata": {},
   "outputs": [
    {
     "data": {
      "text/html": [
       "<div>\n",
       "<style scoped>\n",
       "    .dataframe tbody tr th:only-of-type {\n",
       "        vertical-align: middle;\n",
       "    }\n",
       "\n",
       "    .dataframe tbody tr th {\n",
       "        vertical-align: top;\n",
       "    }\n",
       "\n",
       "    .dataframe thead th {\n",
       "        text-align: right;\n",
       "    }\n",
       "</style>\n",
       "<table border=\"1\" class=\"dataframe\">\n",
       "  <thead>\n",
       "    <tr style=\"text-align: right;\">\n",
       "      <th></th>\n",
       "      <th>Model Name</th>\n",
       "      <th>Training Accuracy</th>\n",
       "      <th>Testing Accuracy</th>\n",
       "      <th>AUC Score</th>\n",
       "      <th>Confusion Matrix</th>\n",
       "    </tr>\n",
       "  </thead>\n",
       "  <tbody>\n",
       "    <tr>\n",
       "      <th>0</th>\n",
       "      <td>Full Random Forest</td>\n",
       "      <td>0.8136</td>\n",
       "      <td>0.5210</td>\n",
       "      <td>0.4749</td>\n",
       "      <td>(50, 22, 35, 12)</td>\n",
       "    </tr>\n",
       "    <tr>\n",
       "      <th>1</th>\n",
       "      <td>Tuned Random Forest</td>\n",
       "      <td>0.7373</td>\n",
       "      <td>0.7647</td>\n",
       "      <td>0.7280</td>\n",
       "      <td>(65, 7, 21, 26)</td>\n",
       "    </tr>\n",
       "    <tr>\n",
       "      <th>2</th>\n",
       "      <td>Full GBM</td>\n",
       "      <td>0.7429</td>\n",
       "      <td>0.5462</td>\n",
       "      <td>0.4920</td>\n",
       "      <td>(54, 18, 36, 11)</td>\n",
       "    </tr>\n",
       "    <tr>\n",
       "      <th>3</th>\n",
       "      <td>Tuned GBM</td>\n",
       "      <td>0.7853</td>\n",
       "      <td>0.7563</td>\n",
       "      <td>0.7247</td>\n",
       "      <td>(63, 9, 20, 27)</td>\n",
       "    </tr>\n",
       "  </tbody>\n",
       "</table>\n",
       "</div>"
      ],
      "text/plain": [
       "            Model Name  Training Accuracy  Testing Accuracy  AUC Score  Confusion Matrix\n",
       "0   Full Random Forest             0.8136            0.5210     0.4749  (50, 22, 35, 12)\n",
       "1  Tuned Random Forest             0.7373            0.7647     0.7280   (65, 7, 21, 26)\n",
       "2             Full GBM             0.7429            0.5462     0.4920  (54, 18, 36, 11)\n",
       "3            Tuned GBM             0.7853            0.7563     0.7247   (63, 9, 20, 27)"
      ]
     },
     "execution_count": 64,
     "metadata": {},
     "output_type": "execute_result"
    }
   ],
   "source": [
    "# instantiating model performance objects\n",
    "gbm_train_acc = round(gbm_tuned_fit.score(x_train, y_train),\n",
    "                      ndigits = 4)\n",
    "\n",
    "\n",
    "gbm_test_acc  = round(gbm_tuned_fit.score(x_test, y_test),\n",
    "                      ndigits = 4)\n",
    "\n",
    "\n",
    "gbm_auc       = round(roc_auc_score(y_true  = y_test,\n",
    "                                    y_score = gbm_tuned_pred),\n",
    "                      ndigits = 4)\n",
    "\n",
    "\n",
    "\n",
    "conf_mtrx    = tuple([gbm_tuned_tn, gbm_tuned_fp,\n",
    "                      gbm_tuned_fn, gbm_tuned_tp])\n",
    "\n",
    "\n",
    "# appending to model_performance\n",
    "model_df = pd.DataFrame(data = {'Model Name'         : 'Tuned GBM',\n",
    "                                'Training Accuracy'  : gbm_train_acc,\n",
    "                                'Testing Accuracy'   : gbm_test_acc,\n",
    "                                'AUC Score'          : gbm_auc,\n",
    "                                'Confusion Matrix'   : str(conf_mtrx)},\n",
    "                        index = [0])\n",
    "\n",
    "\n",
    "\n",
    "model_performance = pd.concat(objs         = [model_performance, model_df],\n",
    "                              axis         = 0,\n",
    "                              ignore_index = True)\n",
    "\n",
    "\n",
    "# checking the results\n",
    "model_performance"
   ]
  },
  {
   "cell_type": "code",
   "execution_count": 65,
   "id": "d3847211",
   "metadata": {},
   "outputs": [
    {
     "data": {
      "text/html": [
       "<div>\n",
       "<style scoped>\n",
       "    .dataframe tbody tr th:only-of-type {\n",
       "        vertical-align: middle;\n",
       "    }\n",
       "\n",
       "    .dataframe tbody tr th {\n",
       "        vertical-align: top;\n",
       "    }\n",
       "\n",
       "    .dataframe thead th {\n",
       "        text-align: right;\n",
       "    }\n",
       "</style>\n",
       "<table border=\"1\" class=\"dataframe\">\n",
       "  <thead>\n",
       "    <tr style=\"text-align: right;\">\n",
       "      <th></th>\n",
       "      <th>Model Name</th>\n",
       "      <th>Training Accuracy</th>\n",
       "      <th>Testing Accuracy</th>\n",
       "      <th>AUC Score</th>\n",
       "      <th>Confusion Matrix</th>\n",
       "    </tr>\n",
       "  </thead>\n",
       "  <tbody>\n",
       "    <tr>\n",
       "      <th>1</th>\n",
       "      <td>Tuned Random Forest</td>\n",
       "      <td>0.7373</td>\n",
       "      <td>0.7647</td>\n",
       "      <td>0.7280</td>\n",
       "      <td>(65, 7, 21, 26)</td>\n",
       "    </tr>\n",
       "    <tr>\n",
       "      <th>3</th>\n",
       "      <td>Tuned GBM</td>\n",
       "      <td>0.7853</td>\n",
       "      <td>0.7563</td>\n",
       "      <td>0.7247</td>\n",
       "      <td>(63, 9, 20, 27)</td>\n",
       "    </tr>\n",
       "    <tr>\n",
       "      <th>2</th>\n",
       "      <td>Full GBM</td>\n",
       "      <td>0.7429</td>\n",
       "      <td>0.5462</td>\n",
       "      <td>0.4920</td>\n",
       "      <td>(54, 18, 36, 11)</td>\n",
       "    </tr>\n",
       "    <tr>\n",
       "      <th>0</th>\n",
       "      <td>Full Random Forest</td>\n",
       "      <td>0.8136</td>\n",
       "      <td>0.5210</td>\n",
       "      <td>0.4749</td>\n",
       "      <td>(50, 22, 35, 12)</td>\n",
       "    </tr>\n",
       "  </tbody>\n",
       "</table>\n",
       "</div>"
      ],
      "text/plain": [
       "            Model Name  Training Accuracy  Testing Accuracy  AUC Score  Confusion Matrix\n",
       "1  Tuned Random Forest             0.7373            0.7647     0.7280   (65, 7, 21, 26)\n",
       "3            Tuned GBM             0.7853            0.7563     0.7247   (63, 9, 20, 27)\n",
       "2             Full GBM             0.7429            0.5462     0.4920  (54, 18, 36, 11)\n",
       "0   Full Random Forest             0.8136            0.5210     0.4749  (50, 22, 35, 12)"
      ]
     },
     "execution_count": 65,
     "metadata": {},
     "output_type": "execute_result"
    }
   ],
   "source": [
    "model_performance.sort_values(by = 'AUC Score',\n",
    "                              ascending = False)"
   ]
  },
  {
   "cell_type": "markdown",
   "id": "7d0389cd",
   "metadata": {},
   "source": [
    "   "
   ]
  },
  {
   "cell_type": "code",
   "execution_count": 66,
   "id": "e8d44667",
   "metadata": {},
   "outputs": [],
   "source": [
    "x_features   =  ['monpre', 'npvis', \n",
    "                  'male',\n",
    "                 'Lifestyle_Risk_Score', 'teenage_pregnancy', \n",
    "                 'prenatal_care','smokes', 'drinks', 'parent35']\n",
    "\n",
    "y_variable =  'low_bwght'"
   ]
  },
  {
   "cell_type": "code",
   "execution_count": 67,
   "id": "d2f38f4c",
   "metadata": {},
   "outputs": [],
   "source": [
    "# x-data\n",
    "x_data_kaggle = kaggle_data[x_features].copy()\n",
    "\n",
    "# y-data\n",
    "y_data_kaggle = kaggle_data[y_variable]\n",
    "\n",
    "# Fitting model from above to the Kaggle test data\n",
    "kaggle_predictions = model.predict(x_data_kaggle)\n",
    "\n",
    "\n",
    "# organizing predictions\n",
    "model_predictions = {\"low_bwght\" : kaggle_predictions}\n",
    "\n",
    "\n",
    "# converting predictions into df\n",
    "model_pred_df = pd.DataFrame(data  = model_predictions,\n",
    "                             index = df_test.index)"
   ]
  },
  {
   "cell_type": "code",
   "execution_count": 68,
   "id": "fb71e7db",
   "metadata": {},
   "outputs": [],
   "source": [
    "## Kaggle Submission File ##\n",
    "\n",
    "# sending predictions to .csv\n",
    "model_pred_df.to_csv(path_or_buf = \"/Users/kimberly/Downloads/A2_5.csv\",\n",
    "                     index       = True,\n",
    "                     index_label = 'bwt_id')"
   ]
  },
  {
   "cell_type": "markdown",
   "id": "8bd414dd",
   "metadata": {},
   "source": [
    "<h2> Analysis </h2>"
   ]
  },
  {
   "cell_type": "markdown",
   "id": "43892f43",
   "metadata": {},
   "source": [
    "<h4> Are there any strong positive or strong negative linear (Pearson) correlations with birthweight? Answer this question based on the original, continuous form of birthweight. (minimum 5 sentences) </h4>"
   ]
  },
  {
   "cell_type": "markdown",
   "id": "75e49c83",
   "metadata": {},
   "source": [
    "There are positive correlations like prenatal visits, father's age, and baby’s gender. This suggests that these factors have a significant association with higher birth weight. On the other hand, negative correlations with behaviors like drinking and smoking suggest these factors are associated with lower birth weight. \n",
    "\n",
    "The features in the birth weight data given are not the only factors that correlate with birth weight. There are entries with high prenatal visits but low birth weight. This could be on a different aspect. Is the mother healthy? Is the baby healthy? Why does she have to visit the doctor often?\n",
    "\n",
    "The parents’ height and weight (which were not given in the dataset) also impact the weight of the baby at birth. It was mentioned that some babies are small because it runs in the family. Another study revealed that a mother's first baby may have a lower birth weight than their second child. This could be because the mother knows more about pregnancy than the first time around.\n"
   ]
  },
  {
   "cell_type": "markdown",
   "id": "bb04400c",
   "metadata": {},
   "source": [
    "<h4> Is there an official threshold that signifies when birthweight gets more dangerous? In other words, is there a cutoff point between a healthy birthweight and a non-healthy birthweight? Provide credible sources as necessary. (minimum 5 sentences) </h4>"
   ]
  },
  {
   "cell_type": "markdown",
   "id": "56da1c6f",
   "metadata": {},
   "source": [
    "Years ago, the threshold was for low birth weight is less than 2500 grams. As mentioned in the feature engineer part, WHO explained that the average birth weight of a full-term male baby is 3.3 kilograms (kg). The average birth weight of a full-term female is 3.2 kg. Babies to lose around 10% of their weight shortly after birth. This decrease is mostly due to fluid loss and most of them gain back this weight within 1 week. It was also mentioned that newborns who are lighter or heavier than the average baby are usually fine. If the baby's birth weight is greater than 4000 g or 4500 g, this is Macrosomia."
   ]
  },
  {
   "cell_type": "markdown",
   "id": "512c2f95",
   "metadata": {},
   "source": [
    "<h4> After transforming birthweight (bwght) using this threshold, did correlations and/or phi coefficients improve? Why or why not? (minimum 5 sentences) </h4>"
   ]
  },
  {
   "cell_type": "markdown",
   "id": "2ed1ff74",
   "metadata": {},
   "source": [
    "The strongest positive correlation is with prenatal_care (0.1982), followed by npvis (0.1805), indicating that higher birth weights are associated with receiving prenatal care and a higher number of prenatal visits. This suggests that interventions aimed at improving prenatal care accessibility and more frequent prenatal visits might positively affect birth weights.\n",
    "\n",
    "The use of phi coefficients offers a clearer view of the strength of relationships between low and normal birth weight and other binary predictors. The improvement in correlations after transformation depends on the specific variables analyzed and the dataset's characteristics. The binary classification might enhance the ability to determine the impact of maternal health conditions on the likelihood of low birth weight. This can enhance certain aspects of analysis and communication.\n"
   ]
  },
  {
   "cell_type": "markdown",
   "id": "9f3685fc",
   "metadata": {},
   "source": [
    "<h4> Which two features in your machine learning model had the largest impact on birthweight? Present one actionable insight for each of these. (minimum 5 sentences per feature) </h4>"
   ]
  },
  {
   "cell_type": "markdown",
   "id": "2256c477",
   "metadata": {},
   "source": [
    "Based in the researches in this case study, the largest impact on birth weight in the machine learning model are Prenatal Care and Lifestyle Risk Score. \n",
    "\n",
    "Increase the availability of prenatal care clinics in some rural and isolated areas to ensure all pregnant women have access to care. Access to quality of prenatal care can significantly impact birth outcomes. Prenatal care is crucial for monitoring and improving maternal and fetal health throughout pregnancy. This is an opportunity for healthcare professionals and even the government to educate expectant mothers on healthy pregnancy practices to check the conditions that can improve birth weight, such as counseling and supplements. Implementing a community-based education programs that inform men and women about sex education or family planning and the importance of early and regular prenatal visits will be beneficial.\n",
    "\n",
    "Lifestyle risk score negatively correlates with birth weight and highlights the importance of addressing lifestyle factors, such as smoking, drinking, and unhealthy diet, during pregnancy. Reducing these risk behaviors can improve birth outcomes. Develop programs for pregnant women and men identified at high risk due to lifestyle factors. This could include stop-smoking programs, alcohol and substance abuse counseling, and nutritional support services.  Launch public health campaigns aimed at raising awareness about the impacts of unhealthy lifestyle choices during pregnancy on birth weight and overall infant health. Create community support networks that offer emotional and practical support to expectant mothers striving to adopt healthier lifestyles."
   ]
  },
  {
   "cell_type": "markdown",
   "id": "ba743d5c",
   "metadata": {},
   "source": [
    "<h4> Present your final model's confusion matrix and explain what each error means (false positives and false negatives). Furthermore, explain which error is being controlled for given the cohort's focus on correctly predicting low birthweight, as well as why this error is more important to control than the other error. (minimum 5 sentences) </h4>"
   ]
  },
  {
   "cell_type": "markdown",
   "id": "c951fdd9",
   "metadata": {},
   "source": [
    "Final Model: Random Forest \n",
    "\n",
    "The model correctly predicted the negative class 65 times. The model incorrectly predicted the positive class 7 times when it was actually the negative class. The model failed to identify the positive class 21 times, incorrectly predicting them as the negative class. This might be particularly concerning if the positive class is the more critical one to detect accurately. The model correctly identified the positive class 26 times.\n",
    "\n",
    "The number of False Negatives (21) is concerning,it is critical to detect some entries accurately, like identifying infants at risk of low birth weight. This suggests that while the model performs reasonably well, it might miss identifying a significant number of positive cases, which could have serious implications, the researcher of this case study is aware of this, and will do more research for better results.\n",
    "\n",
    "Controlling for False Positives is critical. It is based on the potential health implications of not identifying a baby with low birth weight early. Early detection is crucial for ensuring that appropriate care and interventions can be provided to support the infant’s health and development. "
   ]
  },
  {
   "cell_type": "markdown",
   "id": "e923f105",
   "metadata": {},
   "source": [
    "     "
   ]
  },
  {
   "cell_type": "markdown",
   "id": "1e518b7d",
   "metadata": {},
   "source": [
    "<h4> References: </h4>"
   ]
  },
  {
   "cell_type": "markdown",
   "id": "bdf05ebc",
   "metadata": {},
   "source": [
    "Chung, Y. H., Hwang, I. S., Jung, G., & Ko, H. S. (2022). Advanced parental age is an independent risk factor for term low birth weight and Macrosomia. Medicine. https://www.ncbi.nlm.nih.gov/pmc/articles/PMC9239628/#:~:text=This%20study%20suggests%20that%20not,low%20birth%20weight%20and%20macrosomia. \n",
    "\n",
    "De Pietro. (2023). What is the average baby weight by month?. Medical News Today. https://www.medicalnewstoday.com/articles/325630#by-age \n",
    "\n",
    "Low birthweight. March of Dimes. (2021). https://www.marchofdimes.org/find-support/topics/birth/low-birthweight\n",
    "\n",
    "What is prenatal care and why is it important?. National Institute of Child Health and Human Development. (2017). https://www.nichd.nih.gov/health/topics/pregnancy/conditioninfo/prenatal-care#:~:text=These%20visits%20also%20include%20discussions,any%20questions%20about%20the%20pregnancy.&text=Pre%2DPregnancy%20and%20prenatal%20care,and%20ensure%20a%20healthy%20pregnancy. "
   ]
  },
  {
   "cell_type": "code",
   "execution_count": null,
   "id": "980c2a83",
   "metadata": {},
   "outputs": [],
   "source": []
  }
 ],
 "metadata": {
  "kernelspec": {
   "display_name": "Python 3 (ipykernel)",
   "language": "python",
   "name": "python3"
  },
  "language_info": {
   "codemirror_mode": {
    "name": "ipython",
    "version": 3
   },
   "file_extension": ".py",
   "mimetype": "text/x-python",
   "name": "python",
   "nbconvert_exporter": "python",
   "pygments_lexer": "ipython3",
   "version": "3.11.5"
  },
  "toc": {
   "base_numbering": 1,
   "nav_menu": {},
   "number_sections": true,
   "sideBar": true,
   "skip_h1_title": false,
   "title_cell": "Table of Contents",
   "title_sidebar": "Contents",
   "toc_cell": false,
   "toc_position": {},
   "toc_section_display": true,
   "toc_window_display": false
  },
  "varInspector": {
   "cols": {
    "lenName": 16,
    "lenType": 16,
    "lenVar": 40
   },
   "kernels_config": {
    "python": {
     "delete_cmd_postfix": "",
     "delete_cmd_prefix": "del ",
     "library": "var_list.py",
     "varRefreshCmd": "print(var_dic_list())"
    },
    "r": {
     "delete_cmd_postfix": ") ",
     "delete_cmd_prefix": "rm(",
     "library": "var_list.r",
     "varRefreshCmd": "cat(var_dic_list()) "
    }
   },
   "types_to_exclude": [
    "module",
    "function",
    "builtin_function_or_method",
    "instance",
    "_Feature"
   ],
   "window_display": false
  }
 },
 "nbformat": 4,
 "nbformat_minor": 5
}
